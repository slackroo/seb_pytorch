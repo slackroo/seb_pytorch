{
 "cells": [
  {
   "cell_type": "markdown",
   "id": "29dc571a-e16a-47fa-b456-c4d9367b87a5",
   "metadata": {},
   "source": [
    "# Unit 3, Exercise 1: Banknote Authentication"
   ]
  },
  {
   "cell_type": "markdown",
   "id": "48f20142-5f08-4b33-a4e5-ec1315c5a8ff",
   "metadata": {},
   "source": [
    "In this exercise, we are applying logistic regression to a banknote authentication dataset to distinguish between genuine and forged bank notes.\n",
    "\n",
    "\n",
    "**The dataset consists of 1372 examples and 4 features for binary classification.** The features are \n",
    "\n",
    "1. variance of a wavelet-transformed image (continuous) \n",
    "2. skewness of a wavelet-transformed image (continuous) \n",
    "3. kurtosis of a wavelet-transformed image (continuous) \n",
    "4. entropy of the image (continuous) \n",
    "\n",
    "(You can fine more details about this dataset at [https://archive.ics.uci.edu/ml/datasets/banknote+authentication](https://archive.ics.uci.edu/ml/datasets/banknote+authentication).)\n",
    "\n",
    "\n",
    "In essence, these four features represent features that were manually extracted from image data. Note that you do not need the details of these features for this exercise. \n",
    "\n",
    "However, you are encouraged to explore the dataset further, e.g., by plotting the features, looking at the value ranges, and so forth. (We will skip these steps for brevity in this exercise)\n",
    "\n",
    "Most of the code should look familiar to you since it is based on the logistic regression code from Unit 3.6."
   ]
  },
  {
   "cell_type": "markdown",
   "id": "5649ce4a-7db3-4716-9fd1-d2db9af5f834",
   "metadata": {},
   "source": [
    "## 1) Installing Libraries"
   ]
  },
  {
   "cell_type": "markdown",
   "id": "3ea64205-ec41-42db-8167-cd547453354f",
   "metadata": {},
   "source": [
    "You likely already have all libraries installed and don't need to do anything here."
   ]
  },
  {
   "cell_type": "code",
   "id": "ac7e723b-08af-4274-8925-bda4ef60f91a",
   "metadata": {},
   "source": [
    "# !conda install numpy pandas matplotlib --yes"
   ],
   "outputs": [],
   "execution_count": null
  },
  {
   "cell_type": "code",
   "id": "ee966b7b-27cb-4484-b256-8d79f55dc48a",
   "metadata": {},
   "source": [
    "# !pip install torch"
   ],
   "outputs": [],
   "execution_count": null
  },
  {
   "cell_type": "code",
   "id": "1d5d7bb5-c818-4d8c-b6ce-9c6d8fb4ebdf",
   "metadata": {},
   "source": [
    "# !conda install watermark"
   ],
   "outputs": [],
   "execution_count": null
  },
  {
   "cell_type": "code",
   "id": "3822a1f2-6b48-4826-9bf4-adbe06c65a37",
   "metadata": {},
   "source": [
    "%load_ext watermark\n",
    "%watermark -v -p numpy,pandas,matplotlib,torch"
   ],
   "outputs": [],
   "execution_count": null
  },
  {
   "cell_type": "markdown",
   "id": "157c6970-2b47-49a1-ba50-59bf738526ce",
   "metadata": {
    "tags": []
   },
   "source": [
    "## 2) Loading the Dataset"
   ]
  },
  {
   "cell_type": "markdown",
   "id": "6638725c-02ee-44db-b661-d882dd191185",
   "metadata": {},
   "source": [
    "We are using the familiar `read_csv` function from pandas to load the dataset:"
   ]
  },
  {
   "cell_type": "code",
   "id": "ab70cfad-f8bb-4076-b22e-dffa4f8a48fa",
   "metadata": {},
   "source": [
    "import pandas as pd"
   ],
   "outputs": [],
   "execution_count": null
  },
  {
   "cell_type": "code",
   "id": "bb8965ae-5222-4541-a7c6-7a9aaa4d1033",
   "metadata": {},
   "source": [
    "df = pd.read_csv(\"./assets/data_banknote_authentication.txt\", header=None)\n",
    "df.head()"
   ],
   "outputs": [],
   "execution_count": null
  },
  {
   "cell_type": "code",
   "id": "860304f1-1b8c-4993-b547-20e2dcceb03b",
   "metadata": {},
   "source": [
    "X_features = df[[0, 1, 2, 3]].values\n",
    "y_labels = df[4].values"
   ],
   "outputs": [],
   "execution_count": null
  },
  {
   "cell_type": "markdown",
   "id": "a4d2ebb2-d83f-4729-85ed-9437e105b9b8",
   "metadata": {},
   "source": [
    "Number of examples and features:"
   ]
  },
  {
   "cell_type": "code",
   "id": "6f342b22-0fde-436a-a121-00e9ce627512",
   "metadata": {},
   "source": [
    "X_features.shape"
   ],
   "outputs": [],
   "execution_count": null
  },
  {
   "cell_type": "markdown",
   "id": "7c8e94b9-4847-4833-a7d1-afee3c18991a",
   "metadata": {},
   "source": [
    "It is usually a good idea to look at the label distribution:"
   ]
  },
  {
   "cell_type": "code",
   "id": "1e8247a8-101d-4195-84d3-12b6593c0099",
   "metadata": {},
   "source": [
    "import numpy as np\n",
    "\n",
    "np.bincount(y_labels)"
   ],
   "outputs": [],
   "execution_count": null
  },
  {
   "cell_type": "markdown",
   "id": "6f7e7578-c57d-4aae-99fc-77603e202185",
   "metadata": {},
   "source": [
    "## 3) Defining a DataLoader"
   ]
  },
  {
   "cell_type": "markdown",
   "id": "705b52c8-1635-40c8-a6f3-8c4d0d91952e",
   "metadata": {},
   "source": [
    "The `DataLoader` code is the same code we used in Unit 3.6:"
   ]
  },
  {
   "cell_type": "code",
   "id": "fa4ba92f-f294-4572-8aa2-d2fa50788a9d",
   "metadata": {},
   "source": [
    "from torch.utils.data import Dataset, DataLoader\n",
    "\n",
    "class MyDataset(Dataset):\n",
    "    def __init__(self, features, labels):\n",
    "        self.features = torch.tensor(features, dtype=torch.float32)\n",
    "        self.labels = torch.tensor(labels, dtype=torch.float32)\n",
    "\n",
    "    def __getitem__(self, index):\n",
    "        x = self.features[index]\n",
    "        y = self.labels[index]\n",
    "        return x, y\n",
    "\n",
    "    def __len__(self):\n",
    "        return self.labels.shape[0]"
   ],
   "outputs": [],
   "execution_count": null
  },
  {
   "cell_type": "markdown",
   "id": "e2096f23-539a-40e0-affa-db0ffcd0f371",
   "metadata": {},
   "source": [
    "We will be using 80% of the data for training, 20% of the data for validation. In a real-project, we would also have a separate dataset for the final test set (in this case, we do not have an explicit test set)."
   ]
  },
  {
   "cell_type": "code",
   "id": "f8bbd768-c15c-40f5-8500-83fad5bb1722",
   "metadata": {},
   "source": [
    "train_size = int(X_features.shape[0]*0.80)\n",
    "train_size"
   ],
   "outputs": [],
   "execution_count": null
  },
  {
   "cell_type": "code",
   "id": "0b09d3d5-f4f7-47df-8160-8d883c0c5e19",
   "metadata": {},
   "source": [
    "val_size = X_features.shape[0] - train_size\n",
    "val_size"
   ],
   "outputs": [],
   "execution_count": null
  },
  {
   "cell_type": "markdown",
   "id": "3e21d88e-1408-4457-a7fd-3306a9fac5a6",
   "metadata": {},
   "source": [
    "Using `torch.utils.data.random_split`, we generate the training and validation sets along with the respective data loaders:"
   ]
  },
  {
   "cell_type": "code",
   "id": "22a0e19a-de40-4309-b197-368a781a5633",
   "metadata": {},
   "source": [
    "import torch\n",
    "\n",
    "torch.manual_seed(1)\n",
    "train_set, val_set = torch.utils.data.random_split(dataset=MyDataset(X_features, y_labels),lengths=[train_size, val_size])\n",
    "\n",
    "train_loader = DataLoader(\n",
    "    train_set,\n",
    "    batch_size=10,\n",
    "    shuffle=True\n",
    ")\n",
    "val_loader = DataLoader(\n",
    "\n",
    "    val_set,\n",
    "    batch_size=10,\n",
    "    shuffle=False\n",
    ")\n",
    "val_loader"
   ],
   "outputs": [],
   "execution_count": null
  },
  {
   "metadata": {},
   "cell_type": "markdown",
   "source": [
    "## 4) Standardization\n",
    "There are multiple ways to implement the standardization procedure. For this exercise, we are going to implement a procedure that standardizes the features after we created the data loader.\n",
    "\n",
    "Since this dataset has 4 features, there should be 4 means and 4 standard deviations we compute from the training set. We can do this as follows:"
   ],
   "id": "4a469db1d7494834"
  },
  {
   "metadata": {},
   "cell_type": "code",
   "source": "len(train_set), train_size",
   "id": "4f1662c9bcc6a478",
   "outputs": [],
   "execution_count": null
  },
  {
   "metadata": {},
   "cell_type": "code",
   "source": [
    "train_mean = torch.zeros(X_features.shape[1])\n",
    "\n",
    "for x,y in train_loader:\n",
    "    train_mean += x.sum(dim=0)\n",
    "\n",
    "train_mean = train_mean / len(train_set)\n",
    "\n",
    "train_std = torch.zeros(X_features.shape[1])\n",
    "\n",
    "for x,y in train_loader:\n",
    "    train_std += ((x - train_mean)**2).sum(dim=0)\n",
    "\n",
    "train_std = torch.sqrt(train_std / (len(train_set) - 1))\n",
    "print(f\"train mean: {train_mean}\")\n",
    "print(f\"train std: {train_std}\")"
   ],
   "id": "a9b96ab7169dc107",
   "outputs": [],
   "execution_count": null
  },
  {
   "metadata": {},
   "cell_type": "markdown",
   "source": [
    "We compute the means and standard deviations by iterating over the training loader. This is an approach that even works for large datasets where the entire dataset doesn't fit into memory.\n",
    "\n",
    "A simpler approach, which only works for smaller datasets that fit into memory, is as follows:"
   ],
   "id": "5c78a38c259809ed"
  },
  {
   "metadata": {},
   "cell_type": "code",
   "source": [
    "\n",
    "all_x = []\n",
    "for x, y in train_loader:\n",
    "    all_x.append(x)\n",
    "\n",
    "train_std = torch.concat(all_x).std(dim=0)\n",
    "train_mean = torch.concat(all_x).mean(dim=0)\n",
    "print(\"Feature means:\", train_mean)\n",
    "print(\"Feature std. devs:\", train_std)"
   ],
   "id": "697a0a100b476df7",
   "outputs": [],
   "execution_count": null
  },
  {
   "metadata": {},
   "cell_type": "code",
   "source": [
    "def standardize(df, mean, std):\n",
    "    return (df - mean) / std\n"
   ],
   "id": "a328fc37f62df262",
   "outputs": [],
   "execution_count": null
  },
  {
   "cell_type": "markdown",
   "id": "e3a0b2f5-66f5-45e5-9b0a-f4960fc40388",
   "metadata": {},
   "source": [
    "## 4) Implementing the model"
   ]
  },
  {
   "cell_type": "markdown",
   "id": "dee409f0-02e0-4591-abf1-5e2c6c41a187",
   "metadata": {},
   "source": [
    "Here, we are resusing the same model code we used in Unit 3.6:"
   ]
  },
  {
   "cell_type": "code",
   "id": "3da86d9a-7cd5-467c-bf65-3388fe272bd5",
   "metadata": {},
   "source": [
    "import torch\n",
    "\n",
    "class LogisticRegression(torch.nn.Module):\n",
    "    def __init__(self, num_features):\n",
    "        super().__init__()\n",
    "        self.linear = torch.nn.Linear(num_features, 1)\n",
    "\n",
    "    def forward(self,x):\n",
    "        logits = self.linear(x)\n",
    "        probas = torch.sigmoid(logits)\n",
    "        return probas"
   ],
   "outputs": [],
   "execution_count": null
  },
  {
   "cell_type": "markdown",
   "id": "c8340676-a3da-49cf-aeae-c0a3329734c5",
   "metadata": {},
   "source": [
    "## 5) The training loop"
   ]
  },
  {
   "cell_type": "markdown",
   "id": "1660ca15-18d5-4a55-94f1-e9f543bd8748",
   "metadata": {},
   "source": [
    "In this section, we are using the training loop from Unit 3.6. It's the exact same code except for some small modification: We added the line `if not batch_idx % 20` to only print the loss for every 20th batch (to reduce the number of output lines).\n",
    "\n",
    "<font color='red'>YOUR TASK is to find a good learning rate and epoch number so that you achieve a training and validation performance of at least 98%.</font>"
   ]
  },
  {
   "cell_type": "code",
   "id": "79c712f6-4e2a-43e9-8563-215f88beb4a8",
   "metadata": {},
   "source": [
    "import torch.nn.functional as F\n",
    "\n",
    "\n",
    "torch.manual_seed(1)\n",
    "model = LogisticRegression(num_features=4)\n",
    "optimizer = torch.optim.SGD(model.parameters(), lr=1.) ## FILL IN VALUE\n",
    "\n",
    "num_epochs = 2  ## FILL IN VALUE\n",
    "\n",
    "for epoch in range(num_epochs):\n",
    "    \n",
    "    model = model.train()\n",
    "    for batch_idx, (features, class_labels) in enumerate(train_loader):\n",
    "        features = standardize(features, train_mean, train_std)\n",
    "        probas = model(features)\n",
    "        \n",
    "        loss = F.binary_cross_entropy(probas, class_labels.view(probas.shape))\n",
    "        \n",
    "        optimizer.zero_grad()\n",
    "        loss.backward()\n",
    "        optimizer.step()\n",
    "        \n",
    "        ### LOGGING\n",
    "        if not batch_idx % 20: # log every 20th batch\n",
    "            print(f'Epoch: {epoch+1:03d}/{num_epochs:03d}'\n",
    "                   f' | Batch {batch_idx:03d}/{len(train_loader):03d}'\n",
    "                   f' | Loss: {loss:.2f}')"
   ],
   "outputs": [],
   "execution_count": null
  },
  {
   "cell_type": "markdown",
   "id": "41396cca-8920-4edd-9075-588c03d81f01",
   "metadata": {},
   "source": [
    "## 6) Evaluating the results"
   ]
  },
  {
   "cell_type": "markdown",
   "id": "f458e2cc-011c-48e5-b66a-5ef568114242",
   "metadata": {},
   "source": [
    "Again, reusing the code from Unit 3.6, we will calculate the training and validation set accuracy."
   ]
  },
  {
   "cell_type": "code",
   "id": "4b6473aa-98ac-4ffe-84b5-cb5a2d511018",
   "metadata": {},
   "source": [
    "def compute_accuracy(model, dataloader):\n",
    "\n",
    "    model = model.eval()\n",
    "    \n",
    "    correct = 0.0\n",
    "    total_examples = 0\n",
    "    \n",
    "    for idx, (features, class_labels) in enumerate(dataloader):\n",
    "        \n",
    "        with torch.no_grad():\n",
    "            probas = model(features)\n",
    "        \n",
    "        pred = torch.where(probas > 0.5, 1, 0)\n",
    "        lab = class_labels.view(pred.shape).to(pred.dtype)\n",
    "\n",
    "        compare = lab == pred\n",
    "        correct += torch.sum(compare)\n",
    "        total_examples += len(compare)\n",
    "\n",
    "    return correct / total_examples"
   ],
   "outputs": [],
   "execution_count": null
  },
  {
   "cell_type": "code",
   "id": "70de800b-4138-49ac-b4cc-e89605b78a3d",
   "metadata": {},
   "source": [
    "train_acc = compute_accuracy(model, train_loader)\n",
    "print(f\"Accuracy: {train_acc*100:.2f}%\")"
   ],
   "outputs": [],
   "execution_count": null
  },
  {
   "cell_type": "markdown",
   "id": "c01e464b-cc38-41b7-9d7f-6baafba73f56",
   "metadata": {},
   "source": [
    "<font color='red'>Notice that the code validation accuracy is not shown? It's part of the exercise to implement it :)</font>"
   ]
  },
  {
   "cell_type": "code",
   "id": "7edead56-db64-4667-8007-937ab1974ac0",
   "metadata": {},
   "source": [
    "## YOUR CODE\n",
    "\n",
    "val_acc = compute_accuracy(model, val_loader)\n",
    "print(f\"val accuracy: {val_acc*100:.2f}%\")"
   ],
   "outputs": [],
   "execution_count": null
  },
  {
   "metadata": {},
   "cell_type": "markdown",
   "source": "<font color='red'>Now, add the standardization to the compute_accuracy function above and recompute the training and validation accuracy. What do you observe?</font>",
   "id": "5531c9e01862569b"
  },
  {
   "cell_type": "code",
   "id": "5b5a130b-a752-4ec4-9d3b-58fd20d0bc6e",
   "metadata": {},
   "source": [
    "def compute_accuracy(model, dataloader):\n",
    "\n",
    "    model = model.eval()\n",
    "\n",
    "    correct = 0.0\n",
    "    total_examples = 0\n",
    "\n",
    "    for idx, (features, class_labels) in enumerate(dataloader):\n",
    "\n",
    "        with torch.no_grad():\n",
    "            features = standardize(features, train_mean, train_std)\n",
    "            probas = model(features)\n",
    "\n",
    "        pred = torch.where(probas > 0.5, 1, 0)\n",
    "        lab = class_labels.view(pred.shape).to(pred.dtype)\n",
    "\n",
    "        compare = lab == pred\n",
    "        correct += torch.sum(compare)\n",
    "        total_examples += len(compare)\n",
    "\n",
    "    return correct / total_examples"
   ],
   "outputs": [],
   "execution_count": null
  },
  {
   "metadata": {},
   "cell_type": "code",
   "source": [
    "train_acc = compute_accuracy(model, train_loader)\n",
    "print(f\"Accuracy: {train_acc*100:.2f}%\")"
   ],
   "id": "5df0ab173e76ec03",
   "outputs": [],
   "execution_count": null
  },
  {
   "metadata": {},
   "cell_type": "code",
   "source": [
    "## YOUR CODE\n",
    "\n",
    "val_acc = compute_accuracy(model, val_loader)\n",
    "print(f\"val accuracy: {val_acc*100:.2f}%\")"
   ],
   "id": "93b2cabc2309e556",
   "outputs": [],
   "execution_count": null
  },
  {
   "metadata": {},
   "cell_type": "code",
   "source": "",
   "id": "9f87a7d09b175794",
   "outputs": [],
   "execution_count": null
  }
 ],
 "metadata": {
  "kernelspec": {
   "display_name": "Python 3 (ipykernel)",
   "language": "python",
   "name": "python3"
  },
  "language_info": {
   "codemirror_mode": {
    "name": "ipython",
    "version": 3
   },
   "file_extension": ".py",
   "mimetype": "text/x-python",
   "name": "python",
   "nbconvert_exporter": "python",
   "pygments_lexer": "ipython3",
   "version": "3.9.7"
  }
 },
 "nbformat": 4,
 "nbformat_minor": 5
}
