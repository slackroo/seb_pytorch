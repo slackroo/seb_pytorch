{
 "cells": [
  {
   "cell_type": "code",
   "id": "initial_id",
   "metadata": {
    "collapsed": true
   },
   "source": [
    "%load_ext watermark\n",
    "%watermark -v -p numpy,pandas,matplotlib,torch,lightning"
   ],
   "outputs": [],
   "execution_count": null
  },
  {
   "metadata": {},
   "cell_type": "code",
   "source": [
    "# Loading the dataset\n",
    "from torch.utils.data import Dataset, DataLoader\n",
    "from torchvision import datasets, transforms\n",
    "\n",
    "train_dataset = datasets.MNIST(\n",
    "    root=\"./assets/mnist\",\n",
    "    train=True,\n",
    "    download=True,\n",
    "    transform=transforms.ToTensor(),\n",
    ")\n",
    "\n",
    "test_dataset = datasets.MNIST(\n",
    "    root=\"./assets/mnist\",\n",
    "    train=False,\n",
    "    transform=transforms.ToTensor(),\n",
    ")"
   ],
   "id": "bb7baa733afc2491",
   "outputs": [],
   "execution_count": null
  },
  {
   "metadata": {},
   "cell_type": "code",
   "source": "len(train_dataset), len(test_dataset)",
   "id": "efcb72b119f75e48",
   "outputs": [],
   "execution_count": null
  },
  {
   "metadata": {},
   "cell_type": "code",
   "source": [
    "# split train test\n",
    "import torch\n",
    "from torch.utils.data import random_split\n",
    "\n",
    "train_dataset, val_dataset = random_split(train_dataset, [55000, 5000])"
   ],
   "id": "bf986d5e3b5520bd",
   "outputs": [],
   "execution_count": null
  },
  {
   "metadata": {},
   "cell_type": "code",
   "source": [
    "train_loader = DataLoader(\n",
    "    train_dataset, batch_size=64, shuffle=True\n",
    ")\n",
    "val_loader = DataLoader(\n",
    "    val_dataset, batch_size=64, shuffle=False\n",
    ")\n",
    "test_loader = DataLoader(\n",
    "    test_dataset, batch_size=64, shuffle=False\n",
    ")"
   ],
   "id": "f2248a9c73a44c69",
   "outputs": [],
   "execution_count": null
  },
  {
   "metadata": {},
   "cell_type": "code",
   "source": [
    "# Loading the dataset\n",
    "from torch.utils.data import Dataset, DataLoader\n",
    "from torchvision import datasets, transforms\n",
    "\n",
    "train_dataset = datasets.MNIST(\n",
    "    root=\"./assets/mnist\",\n",
    "    train=True,\n",
    "    download=True,\n",
    "    transform=transforms.ToTensor(),\n",
    ")\n",
    "\n",
    "test_dataset = datasets.MNIST(\n",
    "    root=\"./assets/mnist\",\n",
    "    train=False,\n",
    "    transform=transforms.ToTensor(),\n",
    ")"
   ],
   "id": "851b01c9a8bd1f51",
   "outputs": [],
   "execution_count": null
  },
  {
   "metadata": {},
   "cell_type": "code",
   "source": "len(train_dataset), len(test_dataset)",
   "id": "76a5300893bb07ea",
   "outputs": [],
   "execution_count": null
  },
  {
   "metadata": {},
   "cell_type": "code",
   "source": [
    "# split train test\n",
    "import torch\n",
    "from torch.utils.data import random_split\n",
    "\n",
    "train_dataset, val_dataset = random_split(train_dataset, [55000, 5000])"
   ],
   "id": "2a94a8f82187628c",
   "outputs": [],
   "execution_count": null
  },
  {
   "metadata": {},
   "cell_type": "code",
   "source": [
    "train_loader = DataLoader(\n",
    "    train_dataset, batch_size=64, shuffle=True\n",
    ")\n",
    "val_loader = DataLoader(\n",
    "    val_dataset, batch_size=64, shuffle=False\n",
    ")\n",
    "test_loader = DataLoader(\n",
    "    test_dataset, batch_size=64, shuffle=False\n",
    ")"
   ],
   "id": "b1fbdd46b26d3d6",
   "outputs": [],
   "execution_count": null
  },
  {
   "metadata": {},
   "cell_type": "code",
   "source": [
    "from collections import Counter\n",
    "\n",
    "train_counter = Counter()\n",
    "for images, labels in train_loader:\n",
    "    train_counter.update(labels.numpy())\n",
    "\n",
    "print(\"\\n Training label distribution: \\n\", sorted(train_counter.items()))\n",
    "\n",
    "val_counter = Counter()\n",
    "for images, labels in val_loader:\n",
    "    val_counter.update(labels.numpy())\n",
    "\n",
    "print(\"\\n Validation label distribution: \\n\", sorted(val_counter.items()))\n",
    "\n",
    "test_counter = Counter()\n",
    "for images, labels in test_loader:\n",
    "    test_counter.update(labels.numpy())\n",
    "\n",
    "print(\"\\n Test label distribution: \\n\", sorted(test_counter.items()))"
   ],
   "id": "1aabf2544a12a065",
   "outputs": [],
   "execution_count": null
  },
  {
   "metadata": {},
   "cell_type": "markdown",
   "source": "# Zero-rule classifier / Majority class classifier\n",
   "id": "f72943b93c83e358"
  },
  {
   "metadata": {},
   "cell_type": "code",
   "source": [
    "# what is the baseline accuracy, when we predict all records to majority class?  This is our competing score\n",
    "\n",
    "majority_class = test_counter.most_common(1)[0]\n",
    "print(f\"Majority class: {majority_class}\")\n",
    "\n",
    "baseline_accuracy = majority_class[1] / sum(test_counter.values())\n",
    "print(\"Accuracy when predicting majority class:\")\n",
    "print(f\"Baseline accuracy:{baseline_accuracy} ({baseline_accuracy * 100:.2f}%)\")"
   ],
   "id": "78662a8cfade4f0f",
   "outputs": [],
   "execution_count": null
  },
  {
   "metadata": {},
   "cell_type": "markdown",
   "source": "# Visual Check",
   "id": "adbfed6bd60f3218"
  },
  {
   "metadata": {},
   "cell_type": "code",
   "source": [
    "%matplotlib inline\n",
    "import matplotlib.pyplot as plt\n",
    "import numpy as np\n",
    "import torchvision\n",
    "\n",
    "for images, labels in train_loader:\n",
    "    break\n",
    "\n",
    "plt.figure(figsize=(8, 8))\n",
    "plt.axis(\"off\")\n",
    "plt.title(\"MNIST Training Images\")\n",
    "plt.imshow(\n",
    "    np.transpose(\n",
    "        torchvision.utils.make_grid(\n",
    "            images[:8*8],\n",
    "            padding=1,\n",
    "            pad_value=1.0,\n",
    "            normalize=True,\n",
    "        ),\n",
    "        (1, 2, 0),\n",
    "    )\n",
    ")\n",
    "plt.show()"
   ],
   "id": "b5c645522c34d10e",
   "outputs": [],
   "execution_count": null
  },
  {
   "metadata": {},
   "cell_type": "markdown",
   "source": "# Use Lightning and Implement the nodel",
   "id": "97db47e55c446f47"
  },
  {
   "metadata": {},
   "cell_type": "code",
   "source": [
    "if not 0:\n",
    "    print('j')"
   ],
   "id": "c6fe193645b1f38b",
   "outputs": [],
   "execution_count": null
  },
  {
   "metadata": {},
   "cell_type": "code",
   "source": "not 0",
   "id": "238d6baa38b16433",
   "outputs": [],
   "execution_count": null
  },
  {
   "metadata": {},
   "cell_type": "code",
   "source": "",
   "id": "2cd8bba59334431a",
   "outputs": [],
   "execution_count": null
  }
 ],
 "metadata": {
  "kernelspec": {
   "display_name": "Python 3",
   "language": "python",
   "name": "python3"
  },
  "language_info": {
   "codemirror_mode": {
    "name": "ipython",
    "version": 2
   },
   "file_extension": ".py",
   "mimetype": "text/x-python",
   "name": "python",
   "nbconvert_exporter": "python",
   "pygments_lexer": "ipython2",
   "version": "2.7.6"
  }
 },
 "nbformat": 4,
 "nbformat_minor": 5
}
