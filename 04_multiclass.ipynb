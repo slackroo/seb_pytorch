{
 "cells": [
  {
   "cell_type": "code",
   "id": "initial_id",
   "metadata": {
    "collapsed": true
   },
   "source": "#Unit 2",
   "outputs": [],
   "execution_count": null
  },
  {
   "metadata": {},
   "cell_type": "code",
   "source": [
    "import torch\n",
    "import torch.nn.functional as F"
   ],
   "id": "b9e521157a3141c3",
   "outputs": [],
   "execution_count": null
  },
  {
   "metadata": {},
   "cell_type": "code",
   "source": [
    "z = torch.tensor([[3.1, -2.3, 5.8],\n",
    "                  [1.1, 1.9, -8.9]])\n",
    "print(z)"
   ],
   "id": "50696b53b93eae11",
   "outputs": [],
   "execution_count": null
  },
  {
   "metadata": {},
   "cell_type": "code",
   "source": [
    "\n",
    "print(F.softmax(z, dim=1))"
   ],
   "id": "259c2b2ea59aa6fd",
   "outputs": [],
   "execution_count": null
  },
  {
   "metadata": {},
   "cell_type": "code",
   "source": [
    "torch.set_printoptions(precision=3, sci_mode=False)\n",
    "\n",
    "print(F.softmax(z, dim=1))"
   ],
   "id": "87197b16389bb6e2",
   "outputs": [],
   "execution_count": null
  },
  {
   "metadata": {},
   "cell_type": "code",
   "source": [
    "# One hot endocding\n",
    "\n",
    "y = torch.tensor([0, 2, 2, 1])\n",
    "\n",
    "y_onehot = F.one_hot(y)\n",
    "print(y_onehot)"
   ],
   "id": "c40f5c09a2a66df6",
   "outputs": [],
   "execution_count": null
  },
  {
   "metadata": {},
   "cell_type": "code",
   "source": [
    "net_inputs = torch.tensor([[1.5, 0.1, -0.41],\n",
    "                          [0.5, 0.7, 2.11],\n",
    "                           [-2.1, 1.1, 0.81],\n",
    "                           [ 1.1, 2.5, -1.211]])\n",
    "print(net_inputs)"
   ],
   "id": "3ac09eb52b98e4bb",
   "outputs": [],
   "execution_count": null
  },
  {
   "metadata": {},
   "cell_type": "code",
   "source": [
    "activations = F.softmax(net_inputs, dim=1)\n",
    "print(activations)"
   ],
   "id": "c872f18ebc05e4dc",
   "outputs": [],
   "execution_count": null
  },
  {
   "metadata": {},
   "cell_type": "code",
   "source": [
    "# manual cross entropy loss\n",
    "\n",
    "def manual_cross_entropy(net_inputs, y):\n",
    "    activations = F.softmax(net_inputs, dim=1)\n",
    "    y_onehot = F.one_hot(y)\n",
    "    training_loss = -torch.sum(y_onehot * torch.log(activations), dim=1)\n",
    "    average_loss = torch.mean(training_loss)\n",
    "    return average_loss\n",
    "\n",
    "manual_cross_entropy(net_inputs, y)\n"
   ],
   "id": "92e67ca8128faab6",
   "outputs": [],
   "execution_count": null
  },
  {
   "metadata": {},
   "cell_type": "code",
   "source": "F.cross_entropy(net_inputs , y)",
   "id": "a11e88de87a6c875",
   "outputs": [],
   "execution_count": null
  },
  {
   "metadata": {},
   "cell_type": "code",
   "source": "(-torch.log(torch.tensor(0.333)) + -torch.log(torch.tensor(0.333)))/2",
   "id": "da0822bc2f34a46d",
   "outputs": [],
   "execution_count": null
  },
  {
   "metadata": {},
   "cell_type": "code",
   "source": "",
   "id": "9a9eb0df3556747e",
   "outputs": [],
   "execution_count": null
  }
 ],
 "metadata": {
  "kernelspec": {
   "display_name": "Python 3",
   "language": "python",
   "name": "python3"
  },
  "language_info": {
   "codemirror_mode": {
    "name": "ipython",
    "version": 2
   },
   "file_extension": ".py",
   "mimetype": "text/x-python",
   "name": "python",
   "nbconvert_exporter": "python",
   "pygments_lexer": "ipython2",
   "version": "2.7.6"
  }
 },
 "nbformat": 4,
 "nbformat_minor": 5
}
