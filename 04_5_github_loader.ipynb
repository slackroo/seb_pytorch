{
 "cells": [
  {
   "cell_type": "code",
   "id": "initial_id",
   "metadata": {
    "collapsed": true
   },
   "source": [
    "%load_ext watermark\n",
    "%watermark -v -p git,pandas,torch\n"
   ],
   "outputs": [],
   "execution_count": null
  },
  {
   "metadata": {},
   "cell_type": "code",
   "source": [
    "import os\n",
    "from git import Repo\n",
    "\n",
    "if not os.path.exists(\"./assets/mnist-pngs\"):\n",
    "    Repo.clone_from(\"https://github.com/rasbt/mnist-pngs\", \"./assets/mnist-pngs\")"
   ],
   "id": "aab744e0c75a07bd",
   "outputs": [],
   "execution_count": null
  },
  {
   "metadata": {},
   "cell_type": "code",
   "source": [
    "import pandas as pd\n",
    "\n",
    "df_train = pd.read_csv(\"./assets/mnist-pngs/train.csv\")\n",
    "df_train.head()"
   ],
   "id": "a442c82c8d034f3",
   "outputs": [],
   "execution_count": null
  },
  {
   "metadata": {},
   "cell_type": "code",
   "source": [
    "df_test = pd.read_csv(\"./assets/mnist-pngs/test.csv\")\n",
    "df_test.tail()"
   ],
   "id": "df83f68a23e077fa",
   "outputs": [],
   "execution_count": null
  },
  {
   "metadata": {},
   "cell_type": "code",
   "source": [
    "from sklearn.model_selection import train_test_split\n",
    "\n",
    "df_train = pd.read_csv(\"./assets/mnist-pngs/train.csv\")\n",
    "df_train = df_train.sample(frac=1, random_state=123)\n",
    "loc = round(df_train.shape[0]*0.9)\n",
    "\n",
    "df_new_train = df_train.loc[:loc]\n",
    "df_new_val = df_train[loc:]\n",
    "\n",
    "df_new_train.to_csv(\"./assets/mnist-pngs/new_train.csv\", index=False)\n",
    "df_new_val.to_csv(\"./assets/mnist-pngs/new_val.csv\", index=False)\n",
    "\n",
    "\n"
   ],
   "id": "8aff99fcb34e807b",
   "outputs": [],
   "execution_count": null
  },
  {
   "metadata": {},
   "cell_type": "code",
   "source": "df_new_val['label'].head()",
   "id": "2c20516bb2ad7e28",
   "outputs": [],
   "execution_count": null
  },
  {
   "metadata": {},
   "cell_type": "code",
   "source": "",
   "id": "2a8a478a40f2c317",
   "outputs": [],
   "execution_count": null
  }
 ],
 "metadata": {
  "kernelspec": {
   "display_name": "Python 3",
   "language": "python",
   "name": "python3"
  },
  "language_info": {
   "codemirror_mode": {
    "name": "ipython",
    "version": 2
   },
   "file_extension": ".py",
   "mimetype": "text/x-python",
   "name": "python",
   "nbconvert_exporter": "python",
   "pygments_lexer": "ipython2",
   "version": "2.7.6"
  }
 },
 "nbformat": 4,
 "nbformat_minor": 5
}
