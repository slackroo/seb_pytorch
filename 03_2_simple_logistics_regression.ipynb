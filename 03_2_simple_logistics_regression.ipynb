{
 "cells": [
  {
   "metadata": {
    "ExecuteTime": {
     "end_time": "2025-07-08T14:47:38.861181Z",
     "start_time": "2025-07-08T14:47:38.856806Z"
    }
   },
   "cell_type": "code",
   "source": [
    "from typing import type_check_only\n",
    "\n",
    "torch.manual_seed(123)\n",
    "\n",
    "model = SimpleLinearRegression(num_features=2)"
   ],
   "id": "96061be4ddd38cd",
   "outputs": [],
   "execution_count": 75
  },
  {
   "metadata": {
    "ExecuteTime": {
     "end_time": "2025-07-08T14:47:38.886924Z",
     "start_time": "2025-07-08T14:47:38.882544Z"
    }
   },
   "cell_type": "code",
   "source": [
    "x = torch.tensor([1.1, 2.1])\n",
    "\n",
    "with torch.no_grad():  # in newer vesion of pyTorch we can also use with torch.inference_mode():\n",
    "    proba = model(x)\n",
    "print(proba)"
   ],
   "id": "c937784ee53a565",
   "outputs": [
    {
     "name": "stdout",
     "output_type": "stream",
     "text": [
      "tensor([0.3500])\n"
     ]
    }
   ],
   "execution_count": 76
  },
  {
   "metadata": {},
   "cell_type": "markdown",
   "source": "# Defining Data Loader",
   "id": "b1688d1bef741262"
  },
  {
   "metadata": {
    "ExecuteTime": {
     "end_time": "2025-07-08T14:47:39.031717Z",
     "start_time": "2025-07-08T14:47:38.905937Z"
    }
   },
   "cell_type": "code",
   "source": [
    "data = {\n",
    "    'x1': [0.77, -0.33, 0.91, -0.37, -0.63, 0.39, -0.49, -0.68, -0.10, -0.05,\n",
    "           3.88, 0.73, 0.83, 1.59, 1.14, 1.73, 1.31, 1.56, 1.23, 1.33],\n",
    "    'x2': [-1.14, 1.44, -3.07, -1.91, -1.53, -1.99, -2.74, -1.52, -3.43, -1.95,\n",
    "           0.65, 2.97, 3.94, 1.25, 3.91, 2.80, 1.85, 3.85, 2.54, 2.03],\n",
    "    'label': [0, 0, 0, 0, 0, 0, 0, 0, 0, 0,\n",
    "              1, 1, 1, 1, 1, 1, 1, 1, 1, 1]\n",
    "}\n",
    "\n",
    "df = pd.DataFrame(data)\n",
    "X_train = df[['x1', 'x2']].values\n",
    "y_train = df['label'].values\n",
    "X_train = (X_train - X_train.mean(axis=0))/(X_train.std(axis=0))\n",
    "import matplotlib.pyplot as plt\n",
    "plt.plot(\n",
    "    X_train[y_train == 0, 0],\n",
    "    X_train[y_train == 0, 1],\n",
    "    marker=\"D\",\n",
    "    markersize=10,\n",
    "    linestyle=\"\",\n",
    "    label=\"Class 0\",\n",
    ")\n",
    "\n",
    "plt.plot(\n",
    "    X_train[y_train == 1, 0],\n",
    "    X_train[y_train == 1, 1],\n",
    "    marker=\"^\",\n",
    "    markersize=13,\n",
    "    linestyle=\"\",\n",
    "    label=\"Class 1\",\n",
    ")\n",
    "plt.legend(loc=2)\n",
    "\n",
    "plt.xlim([-5, 5])\n",
    "plt.ylim([-5, 5])\n",
    "\n",
    "plt.xlabel(\"Feature $x_1$\", fontsize=12)\n",
    "plt.ylabel(\"Feature $x_2$\", fontsize=12)\n",
    "\n",
    "plt.grid()\n",
    "plt.show()\n"
   ],
   "id": "106e467a4c983a92",
   "outputs": [
    {
     "data": {
      "text/plain": [
       "<Figure size 640x480 with 1 Axes>"
      ],
      "image/png": "[encoded data removed]"
     },
     "metadata": {},
     "output_type": "display_data"
    }
   ],
   "execution_count": 77
  },
  {
   "metadata": {
    "collapsed": true,
    "ExecuteTime": {
     "end_time": "2025-07-08T14:50:29.249792Z",
     "start_time": "2025-07-08T14:50:29.245836Z"
    }
   },
   "cell_type": "code",
   "source": [
    "import torch\n",
    "\n",
    "class SimpleLinearRegression(torch.nn.Module):\n",
    "\n",
    "    def __init__(self, num_features):\n",
    "        super().__init__()\n",
    "        self.num_features = num_features\n",
    "        self.linear = torch.nn.Linear(in_features=num_features, out_features=1)\n",
    "\n",
    "    def forward(self, x):\n",
    "        logits = self.linear(x)\n",
    "        probas = torch.sigmoid(logits)\n",
    "        return probas\n",
    "\n",
    "\n",
    "\n",
    "\n"
   ],
   "id": "initial_id",
   "outputs": [],
   "execution_count": 105
  },
  {
   "metadata": {
    "ExecuteTime": {
     "end_time": "2025-07-08T14:50:30.104269Z",
     "start_time": "2025-07-08T14:50:30.099930Z"
    }
   },
   "cell_type": "code",
   "source": [
    "from torch.utils.data import DataLoader, Dataset\n",
    "\n",
    "class MyDataset(Dataset):\n",
    "\n",
    "    def __init__(self, X, y):\n",
    "        self.features = torch.tensor(X, dtype=torch.float32)\n",
    "        self.labels = torch.tensor(y, dtype=torch.float32)\n",
    "\n",
    "    def __len__(self):\n",
    "        return self.labels.shape[0]\n",
    "\n",
    "    def __getitem__(self, idx):\n",
    "        x = self.features[idx]\n",
    "        y = self.labels[idx]\n",
    "        return x, y"
   ],
   "id": "1f911fe5e8bf8c19",
   "outputs": [],
   "execution_count": 106
  },
  {
   "metadata": {
    "ExecuteTime": {
     "end_time": "2025-07-08T14:50:31.036146Z",
     "start_time": "2025-07-08T14:50:31.032532Z"
    }
   },
   "cell_type": "code",
   "source": [
    "\n",
    "train_ds = MyDataset(X_train, y_train)\n",
    "\n",
    "train_dataloader = DataLoader(\n",
    "    dataset=train_ds,\n",
    "    batch_size=10,\n",
    "    shuffle=True\n",
    ")\n"
   ],
   "id": "4b16c1856048ca83",
   "outputs": [],
   "execution_count": 107
  },
  {
   "metadata": {
    "ExecuteTime": {
     "end_time": "2025-07-08T14:57:59.447307Z",
     "start_time": "2025-07-08T14:57:59.410561Z"
    }
   },
   "cell_type": "code",
   "source": [
    "# Training loo\n",
    "import torch.nn.functional as F\n",
    "\n",
    "torch.manual_seed(1)\n",
    "model = SimpleLinearRegression(num_features=2)\n",
    "optimizer = torch.optim.SGD(model.parameters(), lr=0.05)\n",
    "\n",
    "n_epochs = 20\n",
    "\n",
    "for epoch in range(n_epochs):\n",
    "    model = model.train()\n",
    "    for batch_idx, (features, class_labels) in enumerate(train_dataloader):\n",
    "        # logits = model(features)\n",
    "        probas = model(features)\n",
    "        # loss = F.binary_cross_entropy_with_logits(logits, class_labels.view(probas.shape))\n",
    "        loss = F.binary_cross_entropy(probas, class_labels.view(probas.shape)) # to reshape to class array to match the proba values\n",
    "\n",
    "        optimizer.zero_grad() # set oev fuc to 0\n",
    "        loss.backward() # compute the gradients\n",
    "        optimizer.step() # update the parameter\n",
    "\n",
    "        print(f\"Epoch: {epoch+1:03d}/{n_epochs:03d}\"\n",
    "              f\"Batch | {batch_idx:03d}/{len(train_dataloader):03d}\"\n",
    "              f\"Loss: | {loss:.3f}\"\n",
    "              )\n",
    "\n",
    "\n"
   ],
   "id": "c90f0700aceceeef",
   "outputs": [
    {
     "name": "stdout",
     "output_type": "stream",
     "text": [
      "Epoch: 001/020Batch | 000/002Loss: | 0.671\n",
      "Epoch: 001/020Batch | 001/002Loss: | 0.733\n",
      "Epoch: 002/020Batch | 000/002Loss: | 0.672\n",
      "Epoch: 002/020Batch | 001/002Loss: | 0.669\n",
      "Epoch: 003/020Batch | 000/002Loss: | 0.600\n",
      "Epoch: 003/020Batch | 001/002Loss: | 0.683\n",
      "Epoch: 004/020Batch | 000/002Loss: | 0.693\n",
      "Epoch: 004/020Batch | 001/002Loss: | 0.536\n",
      "Epoch: 005/020Batch | 000/002Loss: | 0.609\n",
      "Epoch: 005/020Batch | 001/002Loss: | 0.569\n",
      "Epoch: 006/020Batch | 000/002Loss: | 0.586\n",
      "Epoch: 006/020Batch | 001/002Loss: | 0.545\n",
      "Epoch: 007/020Batch | 000/002Loss: | 0.513\n",
      "Epoch: 007/020Batch | 001/002Loss: | 0.576\n",
      "Epoch: 008/020Batch | 000/002Loss: | 0.511\n",
      "Epoch: 008/020Batch | 001/002Loss: | 0.535\n",
      "Epoch: 009/020Batch | 000/002Loss: | 0.513\n",
      "Epoch: 009/020Batch | 001/002Loss: | 0.493\n",
      "Epoch: 010/020Batch | 000/002Loss: | 0.534\n",
      "Epoch: 010/020Batch | 001/002Loss: | 0.436\n",
      "Epoch: 011/020Batch | 000/002Loss: | 0.415\n",
      "Epoch: 011/020Batch | 001/002Loss: | 0.522\n",
      "Epoch: 012/020Batch | 000/002Loss: | 0.461\n",
      "Epoch: 012/020Batch | 001/002Loss: | 0.443\n",
      "Epoch: 013/020Batch | 000/002Loss: | 0.456\n",
      "Epoch: 013/020Batch | 001/002Loss: | 0.418\n",
      "Epoch: 014/020Batch | 000/002Loss: | 0.412\n",
      "Epoch: 014/020Batch | 001/002Loss: | 0.435\n",
      "Epoch: 015/020Batch | 000/002Loss: | 0.430\n",
      "Epoch: 015/020Batch | 001/002Loss: | 0.390\n",
      "Epoch: 016/020Batch | 000/002Loss: | 0.405\n",
      "Epoch: 016/020Batch | 001/002Loss: | 0.389\n",
      "Epoch: 017/020Batch | 000/002Loss: | 0.378\n",
      "Epoch: 017/020Batch | 001/002Loss: | 0.394\n",
      "Epoch: 018/020Batch | 000/002Loss: | 0.437\n",
      "Epoch: 018/020Batch | 001/002Loss: | 0.312\n",
      "Epoch: 019/020Batch | 000/002Loss: | 0.338\n",
      "Epoch: 019/020Batch | 001/002Loss: | 0.391\n",
      "Epoch: 020/020Batch | 000/002Loss: | 0.328\n",
      "Epoch: 020/020Batch | 001/002Loss: | 0.380\n"
     ]
    }
   ],
   "execution_count": 116
  },
  {
   "metadata": {
    "ExecuteTime": {
     "end_time": "2025-07-08T14:58:00.599436Z",
     "start_time": "2025-07-08T14:58:00.595266Z"
    }
   },
   "cell_type": "code",
   "source": "print(probas)",
   "id": "8ba23bd2891af104",
   "outputs": [
    {
     "name": "stdout",
     "output_type": "stream",
     "text": [
      "tensor([[0.6687],\n",
      "        [0.6810],\n",
      "        [0.2162],\n",
      "        [0.7398],\n",
      "        [0.2126],\n",
      "        [0.5744],\n",
      "        [0.3209],\n",
      "        [0.6503],\n",
      "        [0.4276],\n",
      "        [0.2598]], grad_fn=<SigmoidBackward0>)\n"
     ]
    }
   ],
   "execution_count": 117
  },
  {
   "metadata": {
    "ExecuteTime": {
     "end_time": "2025-07-08T14:58:03.915120Z",
     "start_time": "2025-07-08T14:58:03.910320Z"
    }
   },
   "cell_type": "code",
   "source": [
    "pred = torch.where(probas > 0.5, 1, 0)\n",
    "print(pred)"
   ],
   "id": "2abeed8545b45ddb",
   "outputs": [
    {
     "name": "stdout",
     "output_type": "stream",
     "text": [
      "tensor([[1],\n",
      "        [1],\n",
      "        [0],\n",
      "        [1],\n",
      "        [0],\n",
      "        [1],\n",
      "        [0],\n",
      "        [1],\n",
      "        [0],\n",
      "        [0]])\n"
     ]
    }
   ],
   "execution_count": 118
  },
  {
   "metadata": {
    "ExecuteTime": {
     "end_time": "2025-07-08T14:59:37.441517Z",
     "start_time": "2025-07-08T14:59:37.437154Z"
    }
   },
   "cell_type": "code",
   "source": "print(class_labels.view(pred.shape).to(pred.dtype))",
   "id": "54149d032c4d7c55",
   "outputs": [
    {
     "name": "stdout",
     "output_type": "stream",
     "text": [
      "tensor([[1],\n",
      "        [1],\n",
      "        [0],\n",
      "        [1],\n",
      "        [0],\n",
      "        [1],\n",
      "        [0],\n",
      "        [1],\n",
      "        [0],\n",
      "        [0]])\n"
     ]
    }
   ],
   "execution_count": 125
  },
  {
   "metadata": {
    "ExecuteTime": {
     "end_time": "2025-07-08T15:00:04.625807Z",
     "start_time": "2025-07-08T15:00:04.621279Z"
    }
   },
   "cell_type": "code",
   "source": "class_labels",
   "id": "ecfc7e3c419c9c3b",
   "outputs": [
    {
     "data": {
      "text/plain": [
       "tensor([1., 1., 0., 1., 0., 1., 0., 1., 0., 0.])"
      ]
     },
     "execution_count": 126,
     "metadata": {},
     "output_type": "execute_result"
    }
   ],
   "execution_count": 126
  },
  {
   "metadata": {
    "ExecuteTime": {
     "end_time": "2025-07-08T15:05:58.412026Z",
     "start_time": "2025-07-08T15:05:58.407438Z"
    }
   },
   "cell_type": "code",
   "source": [
    "def compute_accuracy(model, dataloader:DataLoader):\n",
    "\n",
    "    model = model.eval()\n",
    "    correct =0\n",
    "    total_examples = 0\n",
    "\n",
    "    for idx , (features, class_labels) in enumerate(dataloader):\n",
    "\n",
    "        with torch.no_grad():\n",
    "            probas = model(features)\n",
    "\n",
    "        pred = torch.where(probas > 0.5, 1, 0)\n",
    "        labels = class_labels.view(pred.shape).to(pred.dtype)\n",
    "\n",
    "        compare = pred == labels\n",
    "        correct += torch.sum(compare)\n",
    "        total_examples += len(compare)\n",
    "\n",
    "    return  correct/total_examples\n"
   ],
   "id": "69df1aab697dcc1e",
   "outputs": [],
   "execution_count": 127
  },
  {
   "metadata": {
    "ExecuteTime": {
     "end_time": "2025-07-08T15:07:15.074635Z",
     "start_time": "2025-07-08T15:07:15.069419Z"
    }
   },
   "cell_type": "code",
   "source": [
    "train_acc = compute_accuracy(model, train_dataloader)\n",
    "print(f\"train accuracy: {train_acc*100:.3f}%\")"
   ],
   "id": "11de44ae4dec05f9",
   "outputs": [
    {
     "name": "stdout",
     "output_type": "stream",
     "text": [
      "train accuracy: 100.000%\n"
     ]
    }
   ],
   "execution_count": 130
  },
  {
   "metadata": {
    "ExecuteTime": {
     "end_time": "2025-07-08T15:12:47.139825Z",
     "start_time": "2025-07-08T15:12:47.135035Z"
    }
   },
   "cell_type": "code",
   "source": "model.linear.weight[0][0].detach()",
   "id": "1772e55914718cfe",
   "outputs": [
    {
     "data": {
      "text/plain": [
       "tensor(0.8279)"
      ]
     },
     "execution_count": 138,
     "metadata": {},
     "output_type": "execute_result"
    }
   ],
   "execution_count": 138
  },
  {
   "metadata": {
    "ExecuteTime": {
     "end_time": "2025-07-08T15:18:29.763081Z",
     "start_time": "2025-07-08T15:18:29.610936Z"
    }
   },
   "cell_type": "code",
   "source": [
    "def plot_decision_boundary(model):\n",
    "\n",
    "    w1 = model.linear.weight[0][0].detach()\n",
    "    w2 =model.linear.weight[0][1].detach()\n",
    "    b = model.linear.bias[0].detach()\n",
    "\n",
    "    x1_min = -20\n",
    "    x2_min = (-(w1 * x1_min) - b) / w2\n",
    "\n",
    "    x1_max = 20\n",
    "    x2_max = (-(w1 * x1_max) - b) / w2\n",
    "\n",
    "    return x1_min, x2_min.item(), x1_max, x2_max.item()\n",
    "\n",
    "\n",
    "\n",
    "\n",
    "x1_min, x2_min, x1_max, x2_max = plot_decision_boundary(model)\n",
    "\n",
    "plt.plot(\n",
    "    X_train[y_train == 0, 0],\n",
    "    X_train[y_train == 0, 1],\n",
    "    marker=\"D\",\n",
    "    markersize=10,\n",
    "    linestyle=\"\",\n",
    "    label=\"Class 0\",\n",
    ")\n",
    "\n",
    "plt.plot(\n",
    "    X_train[y_train == 1, 0],\n",
    "    X_train[y_train == 1, 1],\n",
    "    marker=\"^\",\n",
    "    markersize=13,\n",
    "    linestyle=\"\",\n",
    "    label=\"Class 1\",\n",
    ")\n",
    "\n",
    "plt.plot([x1_min, x1_max], [x2_min, x2_max], color=\"k\")\n",
    "\n",
    "plt.legend(loc=2)\n",
    "\n",
    "plt.xlim([-5, 5])\n",
    "plt.ylim([-5, 5])\n",
    "\n",
    "plt.xlabel(\"Feature $x_1$\", fontsize=12)\n",
    "plt.ylabel(\"Feature $x_2$\", fontsize=12)\n",
    "\n",
    "plt.grid()\n",
    "plt.show()\n"
   ],
   "id": "6b426df3f4ab640a",
   "outputs": [
    {
     "data": {
      "text/plain": [
       "<Figure size 640x480 with 1 Axes>"
      ],
      "image/png": "[encoded data removed]"
     },
     "metadata": {},
     "output_type": "display_data"
    }
   ],
   "execution_count": 154
  },
  {
   "metadata": {
    "ExecuteTime": {
     "end_time": "2025-07-08T15:17:48.841863Z",
     "start_time": "2025-07-08T15:17:48.836625Z"
    }
   },
   "cell_type": "code",
   "source": "x1_min, x2_min.item(), x1_max, x2_max",
   "id": "e239458153b0c7c",
   "outputs": [
    {
     "data": {
      "text/plain": [
       "(-20, 42.86381912231445, 20, tensor(-42.4370))"
      ]
     },
     "execution_count": 153,
     "metadata": {},
     "output_type": "execute_result"
    }
   ],
   "execution_count": 153
  },
  {
   "metadata": {},
   "cell_type": "code",
   "outputs": [],
   "execution_count": null,
   "source": "",
   "id": "dcedf018ac27c37"
  }
 ],
 "metadata": {
  "kernelspec": {
   "display_name": "Python 3",
   "language": "python",
   "name": "python3"
  },
  "language_info": {
   "codemirror_mode": {
    "name": "ipython",
    "version": 2
   },
   "file_extension": ".py",
   "mimetype": "text/x-python",
   "name": "python",
   "nbconvert_exporter": "python",
   "pygments_lexer": "ipython2",
   "version": "2.7.6"
  }
 },
 "nbformat": 4,
 "nbformat_minor": 5
}
