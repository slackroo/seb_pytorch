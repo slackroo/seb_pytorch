{
 "cells": [
  {
   "cell_type": "code",
   "id": "initial_id",
   "metadata": {
    "collapsed": true,
    "ExecuteTime": {
     "end_time": "2025-07-11T07:10:05.384859Z",
     "start_time": "2025-07-11T07:10:02.896545Z"
    }
   },
   "source": [
    "from numpy import dtype\n",
    "from torch.utils.data import Dataset\n",
    "%load_ext watermark\n",
    "%watermark -v -p numpy,pandas,matplotlib,torch"
   ],
   "outputs": [
    {
     "name": "stdout",
     "output_type": "stream",
     "text": [
      "Python implementation: CPython\n",
      "Python version       : 3.11.6\n",
      "IPython version      : 9.4.0\n",
      "\n",
      "numpy     : 1.26.0\n",
      "pandas    : 2.3.0\n",
      "matplotlib: 3.10.3\n",
      "torch     : 2.2.2\n",
      "\n"
     ]
    }
   ],
   "execution_count": 1
  },
  {
   "metadata": {
    "ExecuteTime": {
     "end_time": "2025-07-11T07:12:37.003122Z",
     "start_time": "2025-07-11T07:12:36.999075Z"
    }
   },
   "cell_type": "code",
   "source": [
    "import os\n",
    "import pandas as pd\n",
    "import numpy as np\n",
    "from pathlib import Path\n",
    "\n",
    "NBS_DIR = Path().resolve()\n",
    "# REPO_DIR = NBS_DIR.parent\n",
    "REPO_DIR = NBS_DIR\n",
    "REPO_DIR\n",
    "DATA_DIR = REPO_DIR / 'assets'\n",
    "IMDB_DIR = DATA_DIR / 'IMDB'\n",
    "\n"
   ],
   "id": "7d9f44a4c9884f67",
   "outputs": [],
   "execution_count": 2
  },
  {
   "metadata": {
    "ExecuteTime": {
     "end_time": "2025-07-11T07:14:19.185446Z",
     "start_time": "2025-07-11T07:14:18.578269Z"
    }
   },
   "cell_type": "code",
   "source": [
    "train_df = pd.read_csv(IMDB_DIR / 'train.csv')\n",
    "val_df = pd.read_csv(IMDB_DIR / 'val.csv')\n",
    "test_df = pd.read_csv(IMDB_DIR / 'test.csv')\n",
    "\n",
    "print(f\"Train label count {np.bincount(train_df['label'])}\")\n",
    "print(f\"Val label count {np.bincount(val_df['label'])}\")\n",
    "print(f\"Test label count {np.bincount(test_df['label'])}\")"
   ],
   "id": "4bdf2d1a15a06172",
   "outputs": [
    {
     "name": "stdout",
     "output_type": "stream",
     "text": [
      "Train label count [17452 17548]\n",
      "Val label count [2542 2458]\n",
      "Test label count [5006 4994]\n"
     ]
    }
   ],
   "execution_count": 4
  },
  {
   "metadata": {},
   "cell_type": "markdown",
   "source": "# Bag-of-words Model",
   "id": "106f2b5a6ec66656"
  },
  {
   "metadata": {
    "ExecuteTime": {
     "end_time": "2025-07-11T07:21:27.762924Z",
     "start_time": "2025-07-11T07:21:19.491443Z"
    }
   },
   "cell_type": "code",
   "source": [
    "from sklearn.feature_extraction.text import CountVectorizer\n",
    "\n",
    "count_vect = CountVectorizer(\n",
    "    lowercase=True,\n",
    "    stop_words='english',\n",
    "    max_features=10_000\n",
    ")\n",
    "X_train = count_vect.fit_transform(train_df['text'])\n",
    "X_val = count_vect.transform(val_df['text'])\n",
    "X_test = count_vect.transform(test_df['text'])"
   ],
   "id": "5e1f3258267a5d27",
   "outputs": [],
   "execution_count": 17
  },
  {
   "metadata": {
    "ExecuteTime": {
     "end_time": "2025-07-11T07:21:27.785496Z",
     "start_time": "2025-07-11T07:21:27.780745Z"
    }
   },
   "cell_type": "code",
   "source": "len(count_vect.vocabulary_)",
   "id": "1f62bf77c0be5571",
   "outputs": [
    {
     "data": {
      "text/plain": [
       "10000"
      ]
     },
     "execution_count": 18,
     "metadata": {},
     "output_type": "execute_result"
    }
   ],
   "execution_count": 18
  },
  {
   "metadata": {
    "ExecuteTime": {
     "end_time": "2025-07-11T07:20:01.414715Z",
     "start_time": "2025-07-11T07:20:01.386059Z"
    }
   },
   "cell_type": "code",
   "source": "count_vect.vocabulary_",
   "id": "d205211bd13bf89a",
   "outputs": [
    {
     "data": {
      "text/plain": [
       "{'fame': 3370,\n",
       " 'best': 951,\n",
       " 'movies': 5922,\n",
       " 've': 9530,\n",
       " 'seen': 7900,\n",
       " 'performing': 6545,\n",
       " 'arts': 624,\n",
       " 'music': 5954,\n",
       " 'acting': 234,\n",
       " 'excellent': 3219,\n",
       " 'screenplay': 7845,\n",
       " 'set': 7969,\n",
       " 'design': 2515,\n",
       " 'favorite': 3422,\n",
       " 'students': 8658,\n",
       " 'start': 8515,\n",
       " 'dancing': 2301,\n",
       " 'making': 5496,\n",
       " 'movie': 5920,\n",
       " 'number': 6171,\n",
       " 'times': 9102,\n",
       " 'bored': 1109,\n",
       " '10': 3,\n",
       " 'fully': 3735,\n",
       " 'deserves': 2513,\n",
       " 'hindi': 4290,\n",
       " 'comedies': 1830,\n",
       " 'known': 5051,\n",
       " 'gritty': 4032,\n",
       " 'hard': 4146,\n",
       " 'hitting': 4312,\n",
       " 'social': 8298,\n",
       " 'dramas': 2799,\n",
       " 'easily': 2928,\n",
       " 'br': 1144,\n",
       " 'plot': 6693,\n",
       " 'revolves': 7510,\n",
       " 'small': 8262,\n",
       " 'town': 9180,\n",
       " 'khan': 4989,\n",
       " 'salman': 7729,\n",
       " 'want': 9683,\n",
       " 'rich': 7525,\n",
       " 'quick': 7084,\n",
       " 'big': 968,\n",
       " 'city': 1672,\n",
       " 'hatch': 4176,\n",
       " 'plan': 6658,\n",
       " 'woo': 9891,\n",
       " 'heiress': 4232,\n",
       " 'daughter': 2337,\n",
       " 'businessman': 1290,\n",
       " 'paresh': 6438,\n",
       " 'marries': 5563,\n",
       " 'gets': 3849,\n",
       " 'hands': 4123,\n",
       " 'wealth': 9743,\n",
       " 'know': 5048,\n",
       " 'intense': 4697,\n",
       " 'hilarious': 4283,\n",
       " 'gags': 3765,\n",
       " 'situations': 8186,\n",
       " 'ensue': 3101,\n",
       " 'battle': 864,\n",
       " 'time': 9099,\n",
       " 'identical': 4472,\n",
       " 'twin': 9325,\n",
       " 'brother': 1218,\n",
       " 'wants': 9686,\n",
       " 'eliminate': 3006,\n",
       " 'niece': 6084,\n",
       " 'family': 3375,\n",
       " 'fortune': 3657,\n",
       " 'add': 257,\n",
       " 'assortment': 661,\n",
       " 'funny': 3747,\n",
       " 'characters': 1537,\n",
       " 'including': 4569,\n",
       " 'maid': 5479,\n",
       " 'kapoor': 4951,\n",
       " 'mistake': 5802,\n",
       " 'prone': 6968,\n",
       " 'butler': 1297,\n",
       " 'named': 5983,\n",
       " 'robert': 7590,\n",
       " 'manager': 5509,\n",
       " 'villain': 9590,\n",
       " 'gangster': 3780,\n",
       " 'looks': 5372,\n",
       " 'like': 5267,\n",
       " 'pirate': 6637,\n",
       " 'comedy': 1831,\n",
       " 'waste': 9714,\n",
       " 'looking': 5371,\n",
       " 'logic': 5351,\n",
       " 'leave': 5182,\n",
       " 'company': 1867,\n",
       " 'brains': 1150,\n",
       " 'just': 4941,\n",
       " 'enjoy': 3092,\n",
       " 'actors': 241,\n",
       " 'sync': 8871,\n",
       " 'script': 7853,\n",
       " 'room': 7633,\n",
       " 'left': 5189,\n",
       " 'mistakes': 5804,\n",
       " 'dialogues': 2570,\n",
       " 'witty': 9872,\n",
       " 'lyrics': 5446,\n",
       " 'memorable': 5675,\n",
       " 'choreography': 1628,\n",
       " 'lo': 5331,\n",
       " 'fitting': 3543,\n",
       " 'remain': 7354,\n",
       " 'mind': 5759,\n",
       " 'forever': 3633,\n",
       " 'film': 3502,\n",
       " 'starred': 8511,\n",
       " 'eventually': 3194,\n",
       " 'impeccable': 4528,\n",
       " 'role': 7612,\n",
       " 'sense': 7927,\n",
       " 'comic': 1836,\n",
       " 'timing': 9103,\n",
       " 'comparison': 1873,\n",
       " 'likable': 5266,\n",
       " 'supporting': 8778,\n",
       " 'stands': 8499,\n",
       " 'dual': 2855,\n",
       " 'surprisingly': 8798,\n",
       " 'failed': 3350,\n",
       " 'box': 1135,\n",
       " 'office': 6236,\n",
       " 'fail': 3349,\n",
       " 'understand': 9376,\n",
       " 'recommend': 7248,\n",
       " 'predictable': 6834,\n",
       " 'abound': 172,\n",
       " 'violence': 9598,\n",
       " 'cheap': 1561,\n",
       " 'romance': 7620,\n",
       " 'melodrama': 5666,\n",
       " 'delightfully': 2429,\n",
       " 'surprising': 8797,\n",
       " 'strange': 8610,\n",
       " 'compelling': 1878,\n",
       " 'especially': 3158,\n",
       " 'alan': 370,\n",
       " 'rickman': 7532,\n",
       " 'watch': 9718,\n",
       " 'does': 2731,\n",
       " 'provide': 6995,\n",
       " 'answers': 509,\n",
       " 'asking': 638,\n",
       " 'questions': 7083,\n",
       " 'surprise': 8794,\n",
       " 'good': 3933,\n",
       " 'bad': 786,\n",
       " 'dark': 2319,\n",
       " 'harbor': 4145,\n",
       " 'convinced': 2053,\n",
       " 'believe': 920,\n",
       " 'performance': 6540,\n",
       " 'worth': 9919,\n",
       " 'end': 3063,\n",
       " 'ladies': 5091,\n",
       " 'saw': 7779,\n",
       " 'tv': 9319,\n",
       " 'night': 6088,\n",
       " 'channel': 1523,\n",
       " 'couldn': 2098,\n",
       " 'stand': 8493,\n",
       " 'watching': 9724,\n",
       " 'longer': 5366,\n",
       " 'really': 7219,\n",
       " 'flat': 3558,\n",
       " 'did': 2581,\n",
       " 'thought': 9048,\n",
       " 'idea': 4466,\n",
       " 'actor': 240,\n",
       " 'friend': 3709,\n",
       " 'told': 9129,\n",
       " 'wasn': 9713,\n",
       " 'play': 6674,\n",
       " 'guy': 4081,\n",
       " 'think': 9035,\n",
       " 'meant': 5641,\n",
       " 'save': 7775,\n",
       " 'runaway': 7684,\n",
       " 'steaming': 8543,\n",
       " 'pile': 6626,\n",
       " 'bet': 952,\n",
       " 'rest': 7459,\n",
       " 'cast': 1440,\n",
       " 'given': 3881,\n",
       " 'option': 6289,\n",
       " 'fair': 3356,\n",
       " 'judge': 4914,\n",
       " 'appalling': 537,\n",
       " 'fake': 3362,\n",
       " 'american': 439,\n",
       " 'shooting': 8079,\n",
       " 'action': 235,\n",
       " 'awkward': 762,\n",
       " 'stilted': 8574,\n",
       " 'dialog': 2567,\n",
       " 'inane': 4555,\n",
       " 'far': 3387,\n",
       " 'saddest': 7712,\n",
       " 'thing': 9033,\n",
       " 'ship': 8063,\n",
       " 'real': 7204,\n",
       " 'life': 5250,\n",
       " 'boat': 1063,\n",
       " 'doesn': 2732,\n",
       " 'instead': 4673,\n",
       " 'trying': 9299,\n",
       " 'make': 5491,\n",
       " 'look': 5369,\n",
       " 'new': 6067,\n",
       " 'liner': 5291,\n",
       " 'bits': 1002,\n",
       " 'wrapped': 9930,\n",
       " 'kid': 4994,\n",
       " 'change': 1519,\n",
       " 'explain': 3279,\n",
       " 'celebrate': 1475,\n",
       " 'dumb': 2877,\n",
       " 'don': 2749,\n",
       " 'joke': 4890,\n",
       " 'huge': 4413,\n",
       " 'fan': 3377,\n",
       " 'simon': 8148,\n",
       " 'pegg': 6519,\n",
       " 'watched': 9720,\n",
       " 'plenty': 6689,\n",
       " 'laugh': 5136,\n",
       " 'lose': 5384,\n",
       " 'friends': 3711,\n",
       " 'people': 6530,\n",
       " 'essentially': 3164,\n",
       " 'man': 5505,\n",
       " 'ethics': 3178,\n",
       " 'doing': 2736,\n",
       " 'things': 9034,\n",
       " 'famous': 3376,\n",
       " 'ends': 3070,\n",
       " 'culture': 2241,\n",
       " 'toned': 9141,\n",
       " 'humor': 4426,\n",
       " 'bit': 996,\n",
       " 'dance': 2297,\n",
       " 'happy': 4143,\n",
       " 'complain': 1885,\n",
       " 'version': 9552,\n",
       " 'mystical': 5973,\n",
       " 'farrell': 3396,\n",
       " 'title': 9116,\n",
       " 'line': 5289,\n",
       " 'frankly': 3683,\n",
       " 'stink': 8576,\n",
       " 'suffers': 8728,\n",
       " 'large': 5117,\n",
       " 'credited': 2172,\n",
       " 'makes': 5494,\n",
       " 'use': 9479,\n",
       " 'rear': 7221,\n",
       " 'projection': 6951,\n",
       " 'sets': 7971,\n",
       " 'phony': 6592,\n",
       " 'great': 4001,\n",
       " 'strengths': 8624,\n",
       " 'dialogue': 2569,\n",
       " 'limp': 5283,\n",
       " 'visual': 9619,\n",
       " 'performances': 6541,\n",
       " 'perfect': 6536,\n",
       " 'rose': 7644,\n",
       " 'julie': 4926,\n",
       " 'little': 5319,\n",
       " 'remembered': 7366,\n",
       " 'today': 9122,\n",
       " 'joseph': 4901,\n",
       " 'cut': 2264,\n",
       " 'east': 2929,\n",
       " 'simply': 8153,\n",
       " 'shots': 8092,\n",
       " 'credit': 2171,\n",
       " 'stylish': 8682,\n",
       " 'direction': 2622,\n",
       " 'original': 6306,\n",
       " 'beauty': 891,\n",
       " 'simple': 8149,\n",
       " 'help': 4241,\n",
       " 'repair': 7395,\n",
       " 'damage': 2287,\n",
       " 'earth': 2924,\n",
       " 'bound': 1128,\n",
       " 'sections': 7887,\n",
       " 'themes': 9024,\n",
       " 'power': 6803,\n",
       " 'love': 5400,\n",
       " 'handling': 4122,\n",
       " 'arrival': 605,\n",
       " 'train': 9205,\n",
       " 'journey': 4907,\n",
       " 'hot': 4397,\n",
       " 'place': 6650,\n",
       " 'warner': 9698,\n",
       " 'flawed': 3561,\n",
       " 'interesting': 4710,\n",
       " 'lang': 5110,\n",
       " '1934': 26,\n",
       " 'better': 957,\n",
       " 'scenes': 7804,\n",
       " 'henry': 4250,\n",
       " 'king': 5019,\n",
       " 'watered': 9726,\n",
       " 'musical': 5955,\n",
       " 'remake': 7359,\n",
       " 'greatly': 4004,\n",
       " 'enjoyed': 3094,\n",
       " 'chance': 1516,\n",
       " 'men': 5678,\n",
       " 'gave': 3800,\n",
       " 'slang': 8215,\n",
       " 'terms': 8990,\n",
       " 'breasts': 1171,\n",
       " 'french': 3700,\n",
       " 'divine': 2712,\n",
       " 'gerard': 3840,\n",
       " 'beautiful': 889,\n",
       " 'act': 232,\n",
       " 'subtitles': 8704,\n",
       " 'dashing': 2330,\n",
       " 'story': 8602,\n",
       " 'war': 9687,\n",
       " 'needed': 6031,\n",
       " 'need': 6030,\n",
       " 'beginning': 904,\n",
       " 'reads': 7201,\n",
       " 'palm': 6412,\n",
       " 'tells': 8966,\n",
       " 'marry': 5564,\n",
       " 'quite': 7094,\n",
       " 'plain': 6657,\n",
       " 'gestures': 3848,\n",
       " 'running': 7686,\n",
       " 'jumping': 4932,\n",
       " 'minus': 5777,\n",
       " 'heavy': 4226,\n",
       " 'handed': 4116,\n",
       " 'tone': 9140,\n",
       " 'somewhat': 8322,\n",
       " 'annoying': 503,\n",
       " 'apparently': 539,\n",
       " 'consider': 1976,\n",
       " 'superior': 8767,\n",
       " 'hollywood': 4332,\n",
       " 'bother': 1121,\n",
       " 'attempting': 695,\n",
       " 'exciting': 3233,\n",
       " 'stunts': 8675,\n",
       " 'course': 2118,\n",
       " 'non': 6116,\n",
       " 'speaker': 8383,\n",
       " 'misses': 5796,\n",
       " 'occasional': 6208,\n",
       " 'la': 5076,\n",
       " 'girl': 3877,\n",
       " 'tell': 8964,\n",
       " 'heart': 4212,\n",
       " 'belongs': 929,\n",
       " 'dear': 2363,\n",
       " 'interested': 4709,\n",
       " 'years': 9964,\n",
       " 'reviewed': 7497,\n",
       " 'classic': 1693,\n",
       " 'decided': 2382,\n",
       " 'review': 7496,\n",
       " 'notes': 6144,\n",
       " 'critic': 2192,\n",
       " 'animated': 484,\n",
       " 'series': 7956,\n",
       " 'grew': 4019,\n",
       " 'childhood': 1599,\n",
       " 'awesome': 757,\n",
       " 'miss': 5794,\n",
       " 'stuff': 8665,\n",
       " 'clearly': 1707,\n",
       " 'days': 2347,\n",
       " 'called': 1322,\n",
       " 'denmark': 2467,\n",
       " 'chip': 1609,\n",
       " 'lot': 5391,\n",
       " 'old': 6248,\n",
       " 'ones': 6261,\n",
       " 'weird': 9765,\n",
       " 'feeling': 3447,\n",
       " 'surrounding': 8804,\n",
       " 'remember': 7365,\n",
       " 'opinion': 6276,\n",
       " 'came': 1328,\n",
       " 'kind': 5014,\n",
       " 'message': 5705,\n",
       " 'wild': 9817,\n",
       " 'forgiven': 3639,\n",
       " 'sound': 8352,\n",
       " 'feel': 3446,\n",
       " 'slipped': 8248,\n",
       " 'cartoons': 1426,\n",
       " 'ed': 2947,\n",
       " 'nearly': 6022,\n",
       " 'shows': 8106,\n",
       " 'hannah': 4131,\n",
       " 'montana': 5865,\n",
       " 'spirit': 8421,\n",
       " 'early': 2918,\n",
       " 'maybe': 5623,\n",
       " 'wrong': 9945,\n",
       " 'changed': 1520,\n",
       " 'conclude': 1919,\n",
       " 'thrilled': 9063,\n",
       " 'released': 7335,\n",
       " 'screen': 7842,\n",
       " 'kids': 5002,\n",
       " 'day': 2345,\n",
       " 'ben': 933,\n",
       " 'fit': 3541,\n",
       " 'wouldn': 9923,\n",
       " 'meeting': 5657,\n",
       " 'holiday': 4327,\n",
       " 'rate': 7170,\n",
       " 'hope': 4367,\n",
       " 'andre': 463,\n",
       " 'moon': 5875,\n",
       " 'nicole': 6083,\n",
       " 'come': 1825,\n",
       " 'outside': 6340,\n",
       " 'older': 6249,\n",
       " '14': 11,\n",
       " 'actress': 242,\n",
       " 'song': 8324,\n",
       " 'played': 6676,\n",
       " 'nice': 6075,\n",
       " 'actually': 246,\n",
       " 'neat': 6023,\n",
       " 'flick': 3572,\n",
       " 'absolutely': 180,\n",
       " 'budget': 1245,\n",
       " 'shot': 8090,\n",
       " 'video': 9571,\n",
       " 'takes': 8888,\n",
       " 'warm': 9693,\n",
       " 'soon': 8330,\n",
       " 'charm': 1549,\n",
       " 'stop': 8594,\n",
       " 'noticing': 6150,\n",
       " 'lines': 5293,\n",
       " 'develop': 2552,\n",
       " 'quirky': 7092,\n",
       " 'richard': 7526,\n",
       " 'forget': 3634,\n",
       " 'anthony': 512,\n",
       " 'hopkins': 4375,\n",
       " 'hire': 4297,\n",
       " 'raving': 7182,\n",
       " 'psychopath': 7016,\n",
       " 'mixed': 5813,\n",
       " 'mad': 5460,\n",
       " 'slasher': 8221,\n",
       " 'gore': 3944,\n",
       " 'zombie': 9993,\n",
       " 'truly': 9291,\n",
       " 'visually': 9620,\n",
       " 'effective': 2969,\n",
       " 'character': 1531,\n",
       " 'midnight': 5737,\n",
       " 'skater': 8193,\n",
       " 'campus': 1343,\n",
       " 'black': 1007,\n",
       " 'world': 9906,\n",
       " 'cross': 2209,\n",
       " 'grim': 4025,\n",
       " 'say': 7780,\n",
       " 'silver': 8141,\n",
       " 'ludicrous': 5425,\n",
       " 'ominous': 6260,\n",
       " 'soundtrack': 8356,\n",
       " 'features': 3438,\n",
       " 'fun': 3736,\n",
       " 'garage': 3784,\n",
       " 'punk': 7038,\n",
       " 'tunes': 9305,\n",
       " 'mood': 5872,\n",
       " 'thumbs': 9079,\n",
       " 'viewed': 9576,\n",
       " 'veteran': 9557,\n",
       " 'seeing': 7895,\n",
       " 'frank': 3679,\n",
       " 'sinatra': 8158,\n",
       " 'young': 9974,\n",
       " 'extremely': 3325,\n",
       " 'wonderful': 9884,\n",
       " 'voice': 9628,\n",
       " 'sang': 7748,\n",
       " 'songs': 8325,\n",
       " 'morgan': 5883,\n",
       " 'outstanding': 6342,\n",
       " 'numbers': 6172,\n",
       " 'leon': 5212,\n",
       " 'errol': 3149,\n",
       " 'drake': 2797,\n",
       " 'victor': 9567,\n",
       " 'sir': 8173,\n",
       " 'performed': 6542,\n",
       " 'classical': 1694,\n",
       " 'piano': 6607,\n",
       " 'slap': 8216,\n",
       " 'stick': 8569,\n",
       " 'career': 1385,\n",
       " 'joy': 4908,\n",
       " '1940': 32,\n",
       " '99': 158,\n",
       " 'minutes': 5779,\n",
       " 'wasted': 9715,\n",
       " 'pathetic': 6475,\n",
       " 'excuse': 3238,\n",
       " 'horrific': 4384,\n",
       " 'used': 9480,\n",
       " 'cameron': 1334,\n",
       " 'diaz': 2576,\n",
       " 'vincent': 9594,\n",
       " 'keanu': 4966,\n",
       " 'reeves': 7277,\n",
       " 'dan': 2295,\n",
       " 'knows': 5052,\n",
       " 'thankfully': 9011,\n",
       " 'attempted': 694,\n",
       " 'accent': 193,\n",
       " 'disaster': 2645,\n",
       " 'expected': 3263,\n",
       " 'confused': 1949,\n",
       " 'location': 5342,\n",
       " 'spoken': 8439,\n",
       " 'helps': 4246,\n",
       " 'precious': 6824,\n",
       " 'reason': 7222,\n",
       " 'able': 167,\n",
       " 'sit': 8178,\n",
       " 'stuck': 8656,\n",
       " 'read': 7196,\n",
       " 'mark': 5551,\n",
       " '1987': 83,\n",
       " 'cheesy': 1580,\n",
       " 'parts': 6457,\n",
       " 'occasionally': 6209,\n",
       " 'certainly': 1499,\n",
       " 'terrible': 8991,\n",
       " 'concept': 1912,\n",
       " 'moments': 5842,\n",
       " 'near': 6019,\n",
       " 'future': 3755,\n",
       " 'year': 9962,\n",
       " '1991': 88,\n",
       " 'game': 3774,\n",
       " 'chuck': 1645,\n",
       " 'john': 4882,\n",
       " 'hosts': 4396,\n",
       " 'live': 5322,\n",
       " 'die': 2584,\n",
       " 'convicted': 2049,\n",
       " 'death': 2364,\n",
       " 'row': 7661,\n",
       " 'inmates': 4639,\n",
       " 'lives': 5325,\n",
       " 'money': 5847,\n",
       " 'executed': 3240,\n",
       " 'air': 358,\n",
       " 'using': 9486,\n",
       " 'different': 2595,\n",
       " 'methods': 5716,\n",
       " 'electric': 2994,\n",
       " 'bizarre': 1006,\n",
       " 'devices': 2559,\n",
       " 'execution': 3241,\n",
       " 'followed': 3606,\n",
       " 'applause': 550,\n",
       " 'cheering': 1575,\n",
       " 'studio': 8661,\n",
       " 'audience': 714,\n",
       " 'controversial': 2033,\n",
       " 'lots': 5392,\n",
       " 'enemies': 3074,\n",
       " 'incredibly': 4583,\n",
       " 'crappy': 2144,\n",
       " 'aspects': 642,\n",
       " 'doubt': 2768,\n",
       " 'haven': 4187,\n",
       " 'missed': 5795,\n",
       " 'definitely': 2412,\n",
       " 'sitcom': 8179,\n",
       " 'seinfeld': 7905,\n",
       " 'eccentric': 2940,\n",
       " 'kramer': 5060,\n",
       " 'reality': 7213,\n",
       " 'vs': 9643,\n",
       " 'fine': 3518,\n",
       " 'drama': 2798,\n",
       " 'finest': 3520,\n",
       " 'greatest': 4003,\n",
       " 'glad': 3884,\n",
       " 'won': 9881,\n",
       " 'oscars': 6316,\n",
       " 'apocalypse': 532,\n",
       " 'deserved': 2511,\n",
       " 'glory': 3902,\n",
       " 'perfectly': 6538,\n",
       " 'balanced': 800,\n",
       " 'way': 9734,\n",
       " 'highest': 4278,\n",
       " 'quality': 7071,\n",
       " 'test': 9002,\n",
       " 'dated': 2334,\n",
       " 'cultural': 2240,\n",
       " 'impact': 4527,\n",
       " 'long': 5365,\n",
       " 'lasting': 5126,\n",
       " 'realistic': 7210,\n",
       " 'remains': 7358,\n",
       " 'significant': 8133,\n",
       " '1979': 74,\n",
       " 'timeless': 9101,\n",
       " 'dramatic': 2800,\n",
       " 'brilliant': 1194,\n",
       " 'powerful': 6804,\n",
       " 'sweet': 8841,\n",
       " 'tragic': 9200,\n",
       " 'depressing': 2491,\n",
       " 'special': 8387,\n",
       " 'effects': 2971,\n",
       " 'cares': 1391,\n",
       " 'discuss': 2659,\n",
       " 'pointless': 6712,\n",
       " 'unnecessary': 9437,\n",
       " 'chemistry': 1583,\n",
       " 'main': 5482,\n",
       " 'dustin': 2894,\n",
       " 'hoffman': 4318,\n",
       " 'lovable': 5399,\n",
       " 'distant': 2687,\n",
       " 'ted': 8952,\n",
       " 'meryl': 5702,\n",
       " 'streep': 8619,\n",
       " 'wife': 9815,\n",
       " 'joanna': 4873,\n",
       " 'cute': 2265,\n",
       " 'justin': 4946,\n",
       " 'terrific': 8993,\n",
       " 'loving': 5406,\n",
       " 'stubborn': 8655,\n",
       " 'billy': 982,\n",
       " 'son': 8323,\n",
       " 'opening': 6267,\n",
       " 'hand': 4115,\n",
       " 'antonio': 518,\n",
       " 'dazzling': 2349,\n",
       " 'motion': 5901,\n",
       " 'picture': 6615,\n",
       " 'incredible': 4582,\n",
       " 'development': 2555,\n",
       " 'amazing': 428,\n",
       " 'father': 3414,\n",
       " 'choice': 1614,\n",
       " 'care': 1383,\n",
       " 'job': 4875,\n",
       " 'learns': 5179,\n",
       " 'realizes': 7217,\n",
       " 'problems': 6916,\n",
       " 'return': 7481,\n",
       " 'custody': 2261,\n",
       " 'changes': 1521,\n",
       " 'ending': 3066,\n",
       " 'unexpected': 9394,\n",
       " 'sees': 7901,\n",
       " 'courtroom': 2121,\n",
       " 'face': 3334,\n",
       " 'brutal': 1228,\n",
       " 'unleashed': 9428,\n",
       " 'lawyers': 5157,\n",
       " 'poor': 6742,\n",
       " 'falls': 3368,\n",
       " 'jungle': 4935,\n",
       " 'gym': 4084,\n",
       " 'toy': 9184,\n",
       " 'plane': 6659,\n",
       " 'seriously': 7957,\n",
       " 'injured': 4636,\n",
       " 'scene': 7802,\n",
       " 'comes': 1832,\n",
       " 'runs': 7687,\n",
       " 'quickly': 7085,\n",
       " 'crosses': 2211,\n",
       " 'numerous': 6175,\n",
       " 'ignoring': 4489,\n",
       " 'traffic': 9197,\n",
       " 'hospital': 4391,\n",
       " 'overall': 6346,\n",
       " 'lesson': 5221,\n",
       " '250': 118,\n",
       " 'polish': 6728,\n",
       " 'brothers': 1220,\n",
       " 'unique': 9420,\n",
       " 'artists': 623,\n",
       " 'pushed': 7057,\n",
       " 'fantasy': 3386,\n",
       " 'points': 6713,\n",
       " 'common': 1858,\n",
       " 'wings': 9841,\n",
       " 'desire': 2519,\n",
       " 'northfork': 6132,\n",
       " '50s': 141,\n",
       " 'era': 3142,\n",
       " 'middle': 5734,\n",
       " 'shy': 8113,\n",
       " 'thanks': 9012,\n",
       " 'government': 3957,\n",
       " 'loss': 5389,\n",
       " 'featuring': 3440,\n",
       " 'angels': 473,\n",
       " 'dreams': 2813,\n",
       " 'nolte': 6112,\n",
       " 'woods': 9894,\n",
       " 'noticed': 6148,\n",
       " 'reading': 7200,\n",
       " 'comments': 1850,\n",
       " 'offended': 6228,\n",
       " 'fact': 3340,\n",
       " 'twins': 9326,\n",
       " 'storytelling': 8604,\n",
       " 'tactics': 8881,\n",
       " 'embrace': 3027,\n",
       " 'mysterious': 5970,\n",
       " 'aspect': 641,\n",
       " 'everyday': 3197,\n",
       " 'david': 2340,\n",
       " 'cinematography': 1662,\n",
       " 'stunning': 8672,\n",
       " 'highly': 4281,\n",
       " 'recommended': 7250,\n",
       " 'suffered': 8726,\n",
       " 'meaningful': 5637,\n",
       " 'personal': 6556,\n",
       " 'parent': 6436,\n",
       " 'necessary': 6026,\n",
       " 'viewing': 9579,\n",
       " 'ray': 7185,\n",
       " 'naive': 5981,\n",
       " 'joe': 4879,\n",
       " 'buck': 1238,\n",
       " 'leaves': 5183,\n",
       " 'home': 4339,\n",
       " 'spring': 8454,\n",
       " 'texas': 9007,\n",
       " 'apple': 551,\n",
       " 'search': 7866,\n",
       " 'women': 9880,\n",
       " 'bucks': 1240,\n",
       " 'nyc': 6185,\n",
       " 'meets': 5658,\n",
       " 'frustration': 3726,\n",
       " 'ratso': 7179,\n",
       " 'artist': 619,\n",
       " 'pair': 6404,\n",
       " 'manage': 5506,\n",
       " 'survive': 8808,\n",
       " 'turn': 9312,\n",
       " 'cope': 2065,\n",
       " 'urban': 9475,\n",
       " 'america': 438,\n",
       " 'en': 3054,\n",
       " 'route': 7658,\n",
       " 'poignant': 6708,\n",
       " 'cowboy': 2131,\n",
       " 'rides': 7540,\n",
       " 'head': 4198,\n",
       " '1969': 63,\n",
       " 'viewers': 9578,\n",
       " 'swept': 8844,\n",
       " 'away': 755,\n",
       " '1950': 43,\n",
       " 'age': 332,\n",
       " 'innocence': 4641,\n",
       " 'dropped': 2839,\n",
       " 'dorothy': 2764,\n",
       " '1960': 54,\n",
       " 'masterful': 5593,\n",
       " 'casting': 1442,\n",
       " 'notch': 6141,\n",
       " 'crisp': 2190,\n",
       " 'engaging': 3081,\n",
       " 'enhances': 3090,\n",
       " 'deservedly': 2512,\n",
       " 'oscar': 6315,\n",
       " 'vote': 9638,\n",
       " 'films': 3509,\n",
       " 'decade': 2373,\n",
       " 'dad': 2276,\n",
       " 'reel': 7274,\n",
       " 'loved': 5401,\n",
       " 'pull': 7025,\n",
       " 'tape': 8910,\n",
       " 'sheet': 8040,\n",
       " 'wall': 9667,\n",
       " 'gerald': 3838,\n",
       " 'child': 1598,\n",
       " 'sounds': 8355,\n",
       " 'fascinated': 3399,\n",
       " 'ago': 341,\n",
       " 'doctors': 2723,\n",
       " 'ask': 636,\n",
       " 'communicate': 1859,\n",
       " 'respond': 7454,\n",
       " 'cartoon': 1424,\n",
       " 'copy': 2070,\n",
       " 'recently': 7239,\n",
       " 'spoke': 8438,\n",
       " 'digital': 2602,\n",
       " 'transfer': 9214,\n",
       " 'contain': 1999,\n",
       " 'mid': 5733,\n",
       " '1970': 64,\n",
       " 'guess': 4058,\n",
       " 'pretty': 6876,\n",
       " 'lucky': 5423,\n",
       " 'experienced': 3270,\n",
       " 'sights': 8128,\n",
       " '1972': 67,\n",
       " 'basically': 847,\n",
       " 'spoof': 8441,\n",
       " 'hitchcock': 4308,\n",
       " 'strangers': 8613,\n",
       " 'overrated': 6357,\n",
       " 'danny': 2312,\n",
       " 'devito': 2561,\n",
       " 'going': 3920,\n",
       " 'thinking': 9036,\n",
       " 'crystal': 2231,\n",
       " 'murders': 5947,\n",
       " 'murder': 5941,\n",
       " 'mother': 5898,\n",
       " 'directorial': 2626,\n",
       " 'debut': 2372,\n",
       " 'rarely': 7168,\n",
       " 'comedic': 1829,\n",
       " 'television': 8963,\n",
       " 'insipid': 4657,\n",
       " 'vulgar': 9644,\n",
       " 'importantly': 4538,\n",
       " 'refreshing': 7290,\n",
       " 'blast': 1019,\n",
       " 'past': 6471,\n",
       " 'writing': 9943,\n",
       " 'regardless': 7301,\n",
       " 'created': 2158,\n",
       " 'having': 4188,\n",
       " 'similar': 8143,\n",
       " 'summer': 8750,\n",
       " 'school': 7813,\n",
       " 'slightly': 8244,\n",
       " 'newer': 6069,\n",
       " 'cruel': 2222,\n",
       " 'overly': 6355,\n",
       " 'sexual': 7986,\n",
       " 'bathroom': 860,\n",
       " 'key': 4986,\n",
       " 'adult': 293,\n",
       " 'difference': 2593,\n",
       " 'teen': 8956,\n",
       " 'virtually': 9604,\n",
       " 'saving': 7778,\n",
       " 'grow': 4045,\n",
       " 'space': 8366,\n",
       " 'brought': 1221,\n",
       " 'meaning': 5636,\n",
       " 'worn': 9911,\n",
       " 'phrase': 6600,\n",
       " 'paint': 6398,\n",
       " 'dry': 2853,\n",
       " 'attracted': 708,\n",
       " 'west': 9782,\n",
       " 'coast': 1766,\n",
       " 'visited': 9614,\n",
       " 'white': 9799,\n",
       " 'introduced': 4737,\n",
       " 'dimension': 2610,\n",
       " 'banal': 809,\n",
       " 'crew': 2179,\n",
       " 'entire': 3120,\n",
       " 'wait': 9653,\n",
       " '15': 12,\n",
       " 'bus': 1286,\n",
       " 'street': 8620,\n",
       " 'spend': 8407,\n",
       " 'hours': 4401,\n",
       " 'remote': 7376,\n",
       " 'railway': 7119,\n",
       " 'station': 8529,\n",
       " 'cold': 1788,\n",
       " 'winter': 9848,\n",
       " 'sunday': 8754,\n",
       " 'afternoon': 328,\n",
       " 'boring': 1111,\n",
       " 'yes': 9970,\n",
       " 'leader': 5167,\n",
       " 'goes': 3919,\n",
       " 'colour': 1811,\n",
       " 'arguments': 585,\n",
       " 'blessed': 1030,\n",
       " 'bullets': 1262,\n",
       " 'ring': 7552,\n",
       " 'eagerly': 2912,\n",
       " 'finally': 3514,\n",
       " 'arrives': 608,\n",
       " 'arms': 595,\n",
       " 'couple': 2113,\n",
       " 'went': 9775,\n",
       " 'expecting': 3264,\n",
       " 'figured': 3493,\n",
       " 'terribly': 8992,\n",
       " 'worthy': 9922,\n",
       " 'earnest': 2921,\n",
       " 'plodding': 6691,\n",
       " 'dull': 2876,\n",
       " 'enjoying': 3095,\n",
       " 'queen': 7076,\n",
       " 'victoria': 9568,\n",
       " 'married': 5562,\n",
       " 'albert': 375,\n",
       " 'died': 2585,\n",
       " 'circumstances': 1667,\n",
       " 'fascinating': 3400,\n",
       " 'wishing': 9860,\n",
       " 'imagine': 4510,\n",
       " 'sequel': 7948,\n",
       " 'point': 6709,\n",
       " 'costumes': 2094,\n",
       " 'lavish': 5151,\n",
       " 'everybody': 3196,\n",
       " 'involved': 4760,\n",
       " 'word': 9897,\n",
       " 'committed': 1856,\n",
       " 'graham': 3970,\n",
       " 'self': 7910,\n",
       " 'estranged': 3173,\n",
       " 'husband': 4445,\n",
       " 'gone': 3930,\n",
       " 'leads': 5170,\n",
       " 'sort': 8345,\n",
       " 'upbeat': 9463,\n",
       " 'odyssey': 6225,\n",
       " 'involving': 4763,\n",
       " 'bunch': 1270,\n",
       " 'issues': 4797,\n",
       " 'fresh': 3705,\n",
       " 'unpredictable': 9442,\n",
       " 'lacks': 5087,\n",
       " 'subtle': 8705,\n",
       " 'morals': 5880,\n",
       " 'chick': 1594,\n",
       " 'received': 7235,\n",
       " 'average': 741,\n",
       " 'reviews': 7501,\n",
       " 'critics': 2199,\n",
       " 'public': 7019,\n",
       " 'alike': 393,\n",
       " 'check': 1568,\n",
       " 'lisa': 5306,\n",
       " 'krueger': 5064,\n",
       " 'hit': 4306,\n",
       " 'indie': 4593,\n",
       " '1996': 93,\n",
       " 'pie': 6618,\n",
       " 'tend': 8977,\n",
       " 'network': 6062,\n",
       " 'seven': 7978,\n",
       " 'nights': 6093,\n",
       " 'crime': 2182,\n",
       " 'unfunny': 9407,\n",
       " 'crap': 2143,\n",
       " 'brick': 1183,\n",
       " 'presence': 6857,\n",
       " 'jim': 4869,\n",
       " 'familiar': 3372,\n",
       " 'british': 1201,\n",
       " 'carry': 1419,\n",
       " 'listened': 5310,\n",
       " 'harry': 4166,\n",
       " 'potter': 6797,\n",
       " 'book': 1096,\n",
       " ...}"
      ]
     },
     "execution_count": 16,
     "metadata": {},
     "output_type": "execute_result"
    }
   ],
   "execution_count": 16
  },
  {
   "metadata": {
    "ExecuteTime": {
     "end_time": "2025-07-11T07:21:33.041736Z",
     "start_time": "2025-07-11T07:21:33.035300Z"
    }
   },
   "cell_type": "code",
   "source": "X_train.shape",
   "id": "226ff50762fbcd4c",
   "outputs": [
    {
     "data": {
      "text/plain": [
       "(35000, 10000)"
      ]
     },
     "execution_count": 19,
     "metadata": {},
     "output_type": "execute_result"
    }
   ],
   "execution_count": 19
  },
  {
   "metadata": {
    "ExecuteTime": {
     "end_time": "2025-07-11T07:23:10.618207Z",
     "start_time": "2025-07-11T07:23:10.611763Z"
    }
   },
   "cell_type": "code",
   "source": [
    "feat_vec = np.array(X_train[0].todense())[0]\n",
    "feat_vec.shape"
   ],
   "id": "ea7b03b20c5f01bc",
   "outputs": [
    {
     "data": {
      "text/plain": [
       "(10000,)"
      ]
     },
     "execution_count": 25,
     "metadata": {},
     "output_type": "execute_result"
    }
   ],
   "execution_count": 25
  },
  {
   "metadata": {
    "ExecuteTime": {
     "end_time": "2025-07-11T07:42:49.550313Z",
     "start_time": "2025-07-11T07:42:49.541664Z"
    }
   },
   "cell_type": "code",
   "source": "np.bincount(feat_vec), train_df.columns",
   "id": "521c94b31b5e8d3c",
   "outputs": [
    {
     "data": {
      "text/plain": [
       "(array([9977,   21,    2]), Index(['index', 'text', 'label'], dtype='object'))"
      ]
     },
     "execution_count": 36,
     "metadata": {},
     "output_type": "execute_result"
    }
   ],
   "execution_count": 36
  },
  {
   "metadata": {},
   "cell_type": "markdown",
   "source": "# 3_ Defining the dataloader",
   "id": "79e52db951c90da1"
  },
  {
   "metadata": {
    "ExecuteTime": {
     "end_time": "2025-07-11T08:47:03.126799Z",
     "start_time": "2025-07-11T08:47:03.121948Z"
    }
   },
   "cell_type": "code",
   "source": [
    "from torch.utils.data import DataLoader, Dataset\n",
    "import torch\n",
    "\n",
    "class TextDataset(Dataset):\n",
    "    def __init__(self,features,labels):\n",
    "        self.features = torch.tensor(features,dtype=torch.float32)\n",
    "        self.labels = torch.tensor(labels, dtype=torch.int64)\n",
    "\n",
    "    def __getitem__(self, index):\n",
    "        x = self.features[index]\n",
    "        y = self.labels[index]\n",
    "        return x,y\n",
    "\n",
    "    def __len__(self):\n",
    "        return self.labels.shape[0]\n",
    "\n"
   ],
   "id": "f86e07a3a84e2aa5",
   "outputs": [],
   "execution_count": 96
  },
  {
   "metadata": {
    "ExecuteTime": {
     "end_time": "2025-07-11T08:47:17.947397Z",
     "start_time": "2025-07-11T08:47:13.136965Z"
    }
   },
   "cell_type": "code",
   "source": [
    "train_ds = TextDataset(X_train.todense(), train_df['label'].values)\n",
    "train_loader = DataLoader(\n",
    "    train_ds,\n",
    "    shuffle=True,\n",
    "    batch_size=32,\n",
    "    drop_last=True,\n",
    "    num_workers=0\n",
    ")\n",
    "\n",
    "val_ds = TextDataset(X_val.todense(), val_df['label'].values)\n",
    "val_loader = DataLoader(\n",
    "    val_ds,\n",
    "    shuffle=False,\n",
    "    batch_size=32,\n",
    "    num_workers=0\n",
    ")\n",
    "\n",
    "test_ds = TextDataset(X_test.todense(), test_df['label'].values)\n",
    "test_loader = DataLoader(\n",
    "    test_ds,\n",
    "    shuffle=False,\n",
    "    batch_size=32,\n",
    "    num_workers=0\n",
    ")\n",
    "\n"
   ],
   "id": "6efe9435067fa6af",
   "outputs": [],
   "execution_count": 97
  },
  {
   "metadata": {
    "ExecuteTime": {
     "end_time": "2025-07-11T08:45:53.486070Z",
     "start_time": "2025-07-11T08:45:53.476818Z"
    }
   },
   "cell_type": "code",
   "source": [
    "n_epoch = 1\n",
    "\n",
    "for batch_idx, (x,y) in enumerate(train_loader):\n",
    "    break"
   ],
   "id": "9856cbcdd2eca918",
   "outputs": [],
   "execution_count": 90
  },
  {
   "metadata": {
    "ExecuteTime": {
     "end_time": "2025-07-11T08:45:53.517049Z",
     "start_time": "2025-07-11T08:45:53.513285Z"
    }
   },
   "cell_type": "code",
   "source": "x.shape",
   "id": "86cf3f11dcc9afb5",
   "outputs": [
    {
     "data": {
      "text/plain": [
       "torch.Size([32, 10000])"
      ]
     },
     "execution_count": 91,
     "metadata": {},
     "output_type": "execute_result"
    }
   ],
   "execution_count": 91
  },
  {
   "metadata": {},
   "cell_type": "markdown",
   "source": "# implementing a clasifier",
   "id": "47abfbadca2a8fdf"
  },
  {
   "metadata": {
    "ExecuteTime": {
     "end_time": "2025-07-11T08:39:16.300600Z",
     "start_time": "2025-07-11T08:39:13.878742Z"
    }
   },
   "cell_type": "code",
   "source": [
    "import lightning as L\n",
    "from lightning.pytorch.loggers import CSVLogger\n",
    "from lightning.pytorch.callbacks import ModelCheckpoint"
   ],
   "id": "1db671d08faa743e",
   "outputs": [],
   "execution_count": 79
  },
  {
   "metadata": {
    "ExecuteTime": {
     "end_time": "2025-07-11T08:46:01.671383Z",
     "start_time": "2025-07-11T08:46:01.663755Z"
    }
   },
   "cell_type": "code",
   "source": [
    "from local_utilities import LightningModel\n",
    "class LogisticRegression(torch.nn.Module):\n",
    "\n",
    "    def __init__(self, num_features, num_classes):\n",
    "        super().__init__()\n",
    "        self.linear = torch.nn.Linear(num_features, num_classes)\n",
    "\n",
    "    def forward(self, x):\n",
    "        logits = self.linear(x)\n",
    "        return logits\n",
    "\n",
    "\n",
    "pytorch_model = LogisticRegression(num_features=10_000, num_classes=2)\n",
    "\n",
    "call_backs = [\n",
    "    ModelCheckpoint(save_top_k=1, mode=\"max\",monitor=\"val_acc\", save_last=True)\n",
    "]"
   ],
   "id": "bd4a6ba77adfacbd",
   "outputs": [],
   "execution_count": 92
  },
  {
   "metadata": {
    "ExecuteTime": {
     "end_time": "2025-07-11T08:46:04.716887Z",
     "start_time": "2025-07-11T08:46:04.707597Z"
    }
   },
   "cell_type": "code",
   "source": "lightning_model = LightningModel(model=pytorch_model, learning_rate=0.05)",
   "id": "e2bbf8e12d6e0531",
   "outputs": [],
   "execution_count": 93
  },
  {
   "metadata": {
    "ExecuteTime": {
     "end_time": "2025-07-11T08:46:05.913506Z",
     "start_time": "2025-07-11T08:46:05.868643Z"
    }
   },
   "cell_type": "code",
   "source": [
    "trainer = L.Trainer(\n",
    "    callbacks=call_backs,\n",
    "    max_epochs=30,\n",
    "    accelerator='cpu',\n",
    "    logger=CSVLogger(save_dir=\"logs/\", name='my-model'),\n",
    "    deterministic=True\n",
    ")"
   ],
   "id": "e22e2c609d294512",
   "outputs": [
    {
     "name": "stderr",
     "output_type": "stream",
     "text": [
      "GPU available: False, used: False\n",
      "TPU available: False, using: 0 TPU cores\n",
      "HPU available: False, using: 0 HPUs\n"
     ]
    }
   ],
   "execution_count": 94
  },
  {
   "metadata": {
    "ExecuteTime": {
     "end_time": "2025-07-11T08:50:39.669003Z",
     "start_time": "2025-07-11T08:47:35.969069Z"
    }
   },
   "cell_type": "code",
   "source": [
    "trainer.fit(\n",
    "    model = lightning_model,\n",
    "    train_dataloaders=train_loader,\n",
    "    val_dataloaders=val_loader,\n",
    "\n",
    ")"
   ],
   "id": "61d42af22f875133",
   "outputs": [
    {
     "name": "stderr",
     "output_type": "stream",
     "text": [
      "\n",
      "  | Name      | Type               | Params | Mode\n",
      "--------------------------------------------------------\n",
      "0 | model     | LogisticRegression | 20.0 K | eval\n",
      "1 | train_acc | MulticlassAccuracy | 0      | eval\n",
      "2 | val_acc   | MulticlassAccuracy | 0      | eval\n",
      "3 | test_acc  | MulticlassAccuracy | 0      | eval\n",
      "--------------------------------------------------------\n",
      "20.0 K    Trainable params\n",
      "0         Non-trainable params\n",
      "20.0 K    Total params\n",
      "0.080     Total estimated model params size (MB)\n",
      "0         Modules in train mode\n",
      "5         Modules in eval mode\n"
     ]
    },
    {
     "data": {
      "text/plain": [
       "Sanity Checking: |          | 0/? [00:00<?, ?it/s]"
      ],
      "application/vnd.jupyter.widget-view+json": {
       "version_major": 2,
       "version_minor": 0,
       "model_id": "f32ada86b45c4c2182a09757370b11da"
      }
     },
     "metadata": {},
     "output_type": "display_data"
    },
    {
     "name": "stderr",
     "output_type": "stream",
     "text": [
      "/Users/slackroo/Data_science/Deeplearning/seb_pytorch/.venv/lib/python3.11/site-packages/lightning/pytorch/trainer/connectors/data_connector.py:425: The 'val_dataloader' does not have many workers which may be a bottleneck. Consider increasing the value of the `num_workers` argument` to `num_workers=11` in the `DataLoader` to improve performance.\n",
      "/Users/slackroo/Data_science/Deeplearning/seb_pytorch/.venv/lib/python3.11/site-packages/lightning/pytorch/trainer/connectors/data_connector.py:425: The 'train_dataloader' does not have many workers which may be a bottleneck. Consider increasing the value of the `num_workers` argument` to `num_workers=11` in the `DataLoader` to improve performance.\n"
     ]
    },
    {
     "data": {
      "text/plain": [
       "Training: |          | 0/? [00:00<?, ?it/s]"
      ],
      "application/vnd.jupyter.widget-view+json": {
       "version_major": 2,
       "version_minor": 0,
       "model_id": "647d9987db844f0888aefc24db277d2f"
      }
     },
     "metadata": {},
     "output_type": "display_data"
    },
    {
     "data": {
      "text/plain": [
       "Validation: |          | 0/? [00:00<?, ?it/s]"
      ],
      "application/vnd.jupyter.widget-view+json": {
       "version_major": 2,
       "version_minor": 0,
       "model_id": "983e32a659c64c4cafbcdebed56ff19e"
      }
     },
     "metadata": {},
     "output_type": "display_data"
    },
    {
     "data": {
      "text/plain": [
       "Validation: |          | 0/? [00:00<?, ?it/s]"
      ],
      "application/vnd.jupyter.widget-view+json": {
       "version_major": 2,
       "version_minor": 0,
       "model_id": "e3c329f71931444c85aeb941cb691f58"
      }
     },
     "metadata": {},
     "output_type": "display_data"
    },
    {
     "data": {
      "text/plain": [
       "Validation: |          | 0/? [00:00<?, ?it/s]"
      ],
      "application/vnd.jupyter.widget-view+json": {
       "version_major": 2,
       "version_minor": 0,
       "model_id": "6dca8e062154487da0d95fedf2a646d5"
      }
     },
     "metadata": {},
     "output_type": "display_data"
    },
    {
     "data": {
      "text/plain": [
       "Validation: |          | 0/? [00:00<?, ?it/s]"
      ],
      "application/vnd.jupyter.widget-view+json": {
       "version_major": 2,
       "version_minor": 0,
       "model_id": "69dc26e95c6f4d60a7e2c743926f1982"
      }
     },
     "metadata": {},
     "output_type": "display_data"
    },
    {
     "data": {
      "text/plain": [
       "Validation: |          | 0/? [00:00<?, ?it/s]"
      ],
      "application/vnd.jupyter.widget-view+json": {
       "version_major": 2,
       "version_minor": 0,
       "model_id": "abd95cb5dd4a428ab1b7780332f32f8d"
      }
     },
     "metadata": {},
     "output_type": "display_data"
    },
    {
     "data": {
      "text/plain": [
       "Validation: |          | 0/? [00:00<?, ?it/s]"
      ],
      "application/vnd.jupyter.widget-view+json": {
       "version_major": 2,
       "version_minor": 0,
       "model_id": "b9e3c66dc55c407e89646b635838594b"
      }
     },
     "metadata": {},
     "output_type": "display_data"
    },
    {
     "data": {
      "text/plain": [
       "Validation: |          | 0/? [00:00<?, ?it/s]"
      ],
      "application/vnd.jupyter.widget-view+json": {
       "version_major": 2,
       "version_minor": 0,
       "model_id": "00b923dfffef47e6830f077e3b11bcae"
      }
     },
     "metadata": {},
     "output_type": "display_data"
    },
    {
     "data": {
      "text/plain": [
       "Validation: |          | 0/? [00:00<?, ?it/s]"
      ],
      "application/vnd.jupyter.widget-view+json": {
       "version_major": 2,
       "version_minor": 0,
       "model_id": "907dac7f5f6f4d758f40913cc06c7d89"
      }
     },
     "metadata": {},
     "output_type": "display_data"
    },
    {
     "data": {
      "text/plain": [
       "Validation: |          | 0/? [00:00<?, ?it/s]"
      ],
      "application/vnd.jupyter.widget-view+json": {
       "version_major": 2,
       "version_minor": 0,
       "model_id": "53d7dfa1858644d29755964c19e31c68"
      }
     },
     "metadata": {},
     "output_type": "display_data"
    },
    {
     "data": {
      "text/plain": [
       "Validation: |          | 0/? [00:00<?, ?it/s]"
      ],
      "application/vnd.jupyter.widget-view+json": {
       "version_major": 2,
       "version_minor": 0,
       "model_id": "4145d979bd8f4b93b2251b63ea335de4"
      }
     },
     "metadata": {},
     "output_type": "display_data"
    },
    {
     "data": {
      "text/plain": [
       "Validation: |          | 0/? [00:00<?, ?it/s]"
      ],
      "application/vnd.jupyter.widget-view+json": {
       "version_major": 2,
       "version_minor": 0,
       "model_id": "ec10e0b9019f47d2a3ab738c10b840c8"
      }
     },
     "metadata": {},
     "output_type": "display_data"
    },
    {
     "data": {
      "text/plain": [
       "Validation: |          | 0/? [00:00<?, ?it/s]"
      ],
      "application/vnd.jupyter.widget-view+json": {
       "version_major": 2,
       "version_minor": 0,
       "model_id": "8c604f01e3e34a06a5f03c8da763b2b4"
      }
     },
     "metadata": {},
     "output_type": "display_data"
    },
    {
     "data": {
      "text/plain": [
       "Validation: |          | 0/? [00:00<?, ?it/s]"
      ],
      "application/vnd.jupyter.widget-view+json": {
       "version_major": 2,
       "version_minor": 0,
       "model_id": "04774f6352a5444784d6d5183e28f61b"
      }
     },
     "metadata": {},
     "output_type": "display_data"
    },
    {
     "data": {
      "text/plain": [
       "Validation: |          | 0/? [00:00<?, ?it/s]"
      ],
      "application/vnd.jupyter.widget-view+json": {
       "version_major": 2,
       "version_minor": 0,
       "model_id": "af0440f4b98246f79c0b1c96d52900db"
      }
     },
     "metadata": {},
     "output_type": "display_data"
    },
    {
     "data": {
      "text/plain": [
       "Validation: |          | 0/? [00:00<?, ?it/s]"
      ],
      "application/vnd.jupyter.widget-view+json": {
       "version_major": 2,
       "version_minor": 0,
       "model_id": "779c0548424040a1af42ddfb33140dd1"
      }
     },
     "metadata": {},
     "output_type": "display_data"
    },
    {
     "data": {
      "text/plain": [
       "Validation: |          | 0/? [00:00<?, ?it/s]"
      ],
      "application/vnd.jupyter.widget-view+json": {
       "version_major": 2,
       "version_minor": 0,
       "model_id": "3391418f720b4a0ea952eb9263dd676a"
      }
     },
     "metadata": {},
     "output_type": "display_data"
    },
    {
     "data": {
      "text/plain": [
       "Validation: |          | 0/? [00:00<?, ?it/s]"
      ],
      "application/vnd.jupyter.widget-view+json": {
       "version_major": 2,
       "version_minor": 0,
       "model_id": "a01d60b45d4f4f5ab2a92be077efeef5"
      }
     },
     "metadata": {},
     "output_type": "display_data"
    },
    {
     "data": {
      "text/plain": [
       "Validation: |          | 0/? [00:00<?, ?it/s]"
      ],
      "application/vnd.jupyter.widget-view+json": {
       "version_major": 2,
       "version_minor": 0,
       "model_id": "c7a99883a915438aacb85190868934cc"
      }
     },
     "metadata": {},
     "output_type": "display_data"
    },
    {
     "data": {
      "text/plain": [
       "Validation: |          | 0/? [00:00<?, ?it/s]"
      ],
      "application/vnd.jupyter.widget-view+json": {
       "version_major": 2,
       "version_minor": 0,
       "model_id": "bca1a99d6ef04f3281429a00dc764985"
      }
     },
     "metadata": {},
     "output_type": "display_data"
    },
    {
     "data": {
      "text/plain": [
       "Validation: |          | 0/? [00:00<?, ?it/s]"
      ],
      "application/vnd.jupyter.widget-view+json": {
       "version_major": 2,
       "version_minor": 0,
       "model_id": "57b08a2424e94689bb744bb4d9f59ef4"
      }
     },
     "metadata": {},
     "output_type": "display_data"
    },
    {
     "data": {
      "text/plain": [
       "Validation: |          | 0/? [00:00<?, ?it/s]"
      ],
      "application/vnd.jupyter.widget-view+json": {
       "version_major": 2,
       "version_minor": 0,
       "model_id": "caaa369b6a0f4622a1392408009eb18f"
      }
     },
     "metadata": {},
     "output_type": "display_data"
    },
    {
     "data": {
      "text/plain": [
       "Validation: |          | 0/? [00:00<?, ?it/s]"
      ],
      "application/vnd.jupyter.widget-view+json": {
       "version_major": 2,
       "version_minor": 0,
       "model_id": "64498666fb7e487492b31ac0422d4541"
      }
     },
     "metadata": {},
     "output_type": "display_data"
    },
    {
     "data": {
      "text/plain": [
       "Validation: |          | 0/? [00:00<?, ?it/s]"
      ],
      "application/vnd.jupyter.widget-view+json": {
       "version_major": 2,
       "version_minor": 0,
       "model_id": "86446df65fa14a59b47fe6798672005d"
      }
     },
     "metadata": {},
     "output_type": "display_data"
    },
    {
     "data": {
      "text/plain": [
       "Validation: |          | 0/? [00:00<?, ?it/s]"
      ],
      "application/vnd.jupyter.widget-view+json": {
       "version_major": 2,
       "version_minor": 0,
       "model_id": "188e8f3bb8c546429e7b0c12d9197a1c"
      }
     },
     "metadata": {},
     "output_type": "display_data"
    },
    {
     "data": {
      "text/plain": [
       "Validation: |          | 0/? [00:00<?, ?it/s]"
      ],
      "application/vnd.jupyter.widget-view+json": {
       "version_major": 2,
       "version_minor": 0,
       "model_id": "f9ff05e2a22c4c1eba5eab48c2293b34"
      }
     },
     "metadata": {},
     "output_type": "display_data"
    },
    {
     "data": {
      "text/plain": [
       "Validation: |          | 0/? [00:00<?, ?it/s]"
      ],
      "application/vnd.jupyter.widget-view+json": {
       "version_major": 2,
       "version_minor": 0,
       "model_id": "eb2f6371cbae4fbea9041b53913d3fec"
      }
     },
     "metadata": {},
     "output_type": "display_data"
    },
    {
     "data": {
      "text/plain": [
       "Validation: |          | 0/? [00:00<?, ?it/s]"
      ],
      "application/vnd.jupyter.widget-view+json": {
       "version_major": 2,
       "version_minor": 0,
       "model_id": "5d48a7ad2feb4d14865ca3ed7a6e0ee0"
      }
     },
     "metadata": {},
     "output_type": "display_data"
    },
    {
     "data": {
      "text/plain": [
       "Validation: |          | 0/? [00:00<?, ?it/s]"
      ],
      "application/vnd.jupyter.widget-view+json": {
       "version_major": 2,
       "version_minor": 0,
       "model_id": "d6c496cd0284401e9801890c3e826974"
      }
     },
     "metadata": {},
     "output_type": "display_data"
    },
    {
     "data": {
      "text/plain": [
       "Validation: |          | 0/? [00:00<?, ?it/s]"
      ],
      "application/vnd.jupyter.widget-view+json": {
       "version_major": 2,
       "version_minor": 0,
       "model_id": "301fe8fe83394d819e96d2a327a8eecd"
      }
     },
     "metadata": {},
     "output_type": "display_data"
    },
    {
     "data": {
      "text/plain": [
       "Validation: |          | 0/? [00:00<?, ?it/s]"
      ],
      "application/vnd.jupyter.widget-view+json": {
       "version_major": 2,
       "version_minor": 0,
       "model_id": "5140f14dc7b44c2bb8adada8e08200ad"
      }
     },
     "metadata": {},
     "output_type": "display_data"
    },
    {
     "name": "stderr",
     "output_type": "stream",
     "text": [
      "`Trainer.fit` stopped: `max_epochs=30` reached.\n"
     ]
    }
   ],
   "execution_count": 98
  },
  {
   "metadata": {
    "ExecuteTime": {
     "end_time": "2025-07-11T08:50:40.438693Z",
     "start_time": "2025-07-11T08:50:39.720746Z"
    }
   },
   "cell_type": "code",
   "source": [
    "\n",
    "from local_utilities import plot_csv_logger\n",
    "\n",
    "plot_csv_logger(csv_path=f\"{trainer.logger.log_dir}/metrics.csv\")"
   ],
   "id": "7efdb2018277b8bb",
   "outputs": [
    {
     "data": {
      "text/plain": [
       "<Figure size 640x480 with 1 Axes>"
      ],
      "image/png": "[encoded data removed]"
     },
     "metadata": {},
     "output_type": "display_data"
    },
    {
     "data": {
      "text/plain": [
       "<Figure size 640x480 with 1 Axes>"
      ],
      "image/png": "[encoded data removed]"
     },
     "metadata": {},
     "output_type": "display_data"
    }
   ],
   "execution_count": 99
  },
  {
   "metadata": {
    "ExecuteTime": {
     "end_time": "2025-07-11T08:50:58.714677Z",
     "start_time": "2025-07-11T08:50:57.526730Z"
    }
   },
   "cell_type": "code",
   "source": "trainer.test(model=lightning_model, dataloaders=test_loader)",
   "id": "21b06d4b2ec3346d",
   "outputs": [
    {
     "name": "stderr",
     "output_type": "stream",
     "text": [
      "/Users/slackroo/Data_science/Deeplearning/seb_pytorch/.venv/lib/python3.11/site-packages/lightning/pytorch/trainer/connectors/data_connector.py:425: The 'test_dataloader' does not have many workers which may be a bottleneck. Consider increasing the value of the `num_workers` argument` to `num_workers=11` in the `DataLoader` to improve performance.\n"
     ]
    },
    {
     "data": {
      "text/plain": [
       "Testing: |          | 0/? [00:00<?, ?it/s]"
      ],
      "application/vnd.jupyter.widget-view+json": {
       "version_major": 2,
       "version_minor": 0,
       "model_id": "d2bd54edd0f5476c840e49b22ca55a64"
      }
     },
     "metadata": {},
     "output_type": "display_data"
    },
    {
     "name": "stdout",
     "output_type": "stream",
     "text": [
      "────────────────────────────────────────────────────────────────────────────────────────────────────────────────────────\n",
      "       Test metric             DataLoader 0\n",
      "────────────────────────────────────────────────────────────────────────────────────────────────────────────────────────\n",
      "        test_acc            0.8792999982833862\n",
      "────────────────────────────────────────────────────────────────────────────────────────────────────────────────────────\n"
     ]
    },
    {
     "data": {
      "text/plain": [
       "[{'test_acc': 0.8792999982833862}]"
      ]
     },
     "execution_count": 100,
     "metadata": {},
     "output_type": "execute_result"
    }
   ],
   "execution_count": 100
  },
  {
   "metadata": {},
   "cell_type": "code",
   "outputs": [],
   "execution_count": null,
   "source": "",
   "id": "218bb13efbe2d2a3"
  }
 ],
 "metadata": {
  "kernelspec": {
   "display_name": "Python 3",
   "language": "python",
   "name": "python3"
  },
  "language_info": {
   "codemirror_mode": {
    "name": "ipython",
    "version": 2
   },
   "file_extension": ".py",
   "mimetype": "text/x-python",
   "name": "python",
   "nbconvert_exporter": "python",
   "pygments_lexer": "ipython2",
   "version": "2.7.6"
  }
 },
 "nbformat": 4,
 "nbformat_minor": 5
}
