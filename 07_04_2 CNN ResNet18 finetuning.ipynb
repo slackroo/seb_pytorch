{
 "cells": [
  {
   "cell_type": "code",
   "execution_count": null,
   "id": "initial_id",
   "metadata": {
    "ExecuteTime": {
     "end_time": "2025-07-19T09:30:57.378877Z",
     "start_time": "2025-07-19T09:30:51.361031Z"
    },
    "collapsed": true
   },
   "outputs": [],
   "source": [
    "%load_ext watermark\n",
    "%watermark -p torch,lightning,torchvision"
   ]
  },
  {
   "cell_type": "code",
   "execution_count": 2,
   "id": "b5dcc8e688456fd4",
   "metadata": {
    "ExecuteTime": {
     "end_time": "2025-07-19T09:30:58.366735Z",
     "start_time": "2025-07-19T09:30:57.385208Z"
    }
   },
   "outputs": [],
   "source": [
    "import lightning as L\n",
    "import torch\n",
    "import torchvision\n",
    "import torch.nn.functional as F\n",
    "import torchmetrics\n",
    "from lightning.pytorch.loggers import CSVLogger\n",
    "import matplotlib.pyplot as plt\n",
    "import numpy as np\n",
    "\n",
    "from shared_utilities import LightningModel,Cifar10DataModule,plot_loss_and_acc"
   ]
  },
  {
   "cell_type": "code",
   "execution_count": null,
   "id": "4bc69224",
   "metadata": {},
   "outputs": [],
   "source": [
    "import torch\n",
    "\n",
    "entrypoints = torch.hub.list('pytorch/vision',force_reload=True)\n",
    "for e in entrypoints:\n",
    "    if \"resnet\" in e:\n",
    "        print(e)"
   ]
  },
  {
   "cell_type": "code",
   "execution_count": null,
   "id": "628a3f62",
   "metadata": {},
   "outputs": [],
   "source": [
    "%%capture --no-display\n",
    "L.pytorch.seed_everything(123)\n",
    "\n",
    "repo = \"pytorch/vision\"\n",
    "pytorch_model = torch.hub.load(repo, \"resnet18\", weights=\"IMAGENET1K_V1\")\n"
   ]
  },
  {
   "cell_type": "code",
   "execution_count": 5,
   "id": "7fb5565f",
   "metadata": {},
   "outputs": [],
   "source": [
    "# Also\n",
    "\n",
    "# from torchvision.models import resnet18, ResNet18_Weights\n",
    "# weights = ResNet18_Weights.IMAGENET1K_V1"
   ]
  },
  {
   "cell_type": "code",
   "execution_count": null,
   "id": "b497390b",
   "metadata": {},
   "outputs": [],
   "source": [
    "pytorch_model.fc"
   ]
  },
  {
   "cell_type": "code",
   "execution_count": 7,
   "id": "ebe4ab3c",
   "metadata": {},
   "outputs": [],
   "source": [
    "# Training the last layer\n",
    "\n",
    "for param in pytorch_model.parameters():\n",
    "    param.requires_grad = False\n",
    "\n",
    "pytorch_model.fc = torch.nn.Linear(512, 10)"
   ]
  },
  {
   "cell_type": "code",
   "execution_count": null,
   "id": "ef97ec9c",
   "metadata": {},
   "outputs": [],
   "source": [
    "# it is good to apply similar data transformations used for pretraining training\n",
    "\n",
    "\n",
    "from torchvision.models import resnet18, ResNet18_Weights\n",
    "weights = ResNet18_Weights.IMAGENET1K_V1\n",
    "preprocess_transform = weights.transforms()\n",
    "preprocess_transform"
   ]
  },
  {
   "cell_type": "code",
   "execution_count": null,
   "id": "5cd16a09",
   "metadata": {},
   "outputs": [],
   "source": [
    "L.pytorch.seed_everything(123)\n",
    "\n",
    "dm = Cifar10DataModule(\n",
    "    batch_size=64, \n",
    "    num_workers=4,\n",
    "    train_transform=preprocess_transform,\n",
    "    test_transform=preprocess_transform\n",
    ")\n",
    "dm.prepare_data()\n",
    "dm.setup()"
   ]
  },
  {
   "cell_type": "code",
   "execution_count": null,
   "id": "7607f683",
   "metadata": {},
   "outputs": [],
   "source": [
    "for images, labels in dm.train_dataloader():\n",
    "    break\n",
    "\n",
    "plt.figure(figsize=(8,8))\n",
    "plt.axis('off')\n",
    "plt.title(\"training image\")\n",
    "plt.imshow(\n",
    "    np.transpose(\n",
    "        torchvision.utils.make_grid(\n",
    "            images[:64],\n",
    "            padding=1,\n",
    "            pad_value=1.0,\n",
    "            normalize=True\n",
    "        ),\n",
    "        (1,2,0)\n",
    "    )\n",
    ")\n",
    "plt.show()"
   ]
  },
  {
   "cell_type": "code",
   "execution_count": null,
   "id": "d54d487b",
   "metadata": {},
   "outputs": [],
   "source": [
    "images[0].shape"
   ]
  },
  {
   "cell_type": "code",
   "execution_count": null,
   "id": "12da27e6",
   "metadata": {},
   "outputs": [],
   "source": [
    "L.pytorch.seed_everything(123)\n",
    "\n",
    "dm = Cifar10DataModule(\n",
    "    height_width=(224,224)\n",
    "    batch_size=64, \n",
    "    num_workers=4,\n",
    "    train_transform=preprocess_transform,\n",
    "    test_transform=preprocess_transform\n",
    ")\n",
    "\n",
    "l_model = LightningModel(model=pytorch_model, learning_rate=0.1, num_classes=10)\n",
    "\n",
    "trainer= L.Trainer(\n",
    "    # fast_dev_run=1,\n",
    "    max_epochs=30,\n",
    "    accelerator='gpu',\n",
    "    devices=1,\n",
    "    logger=CSVLogger(save_dir='logs/', name='cifr-resnet18-last-layer'),\n",
    "    deterministic=True\n",
    ")"
   ]
  },
  {
   "cell_type": "code",
   "execution_count": null,
   "id": "405e0675",
   "metadata": {},
   "outputs": [],
   "source": [
    "trainer.fit(model=l_model, datamodule=dm)"
   ]
  },
  {
   "cell_type": "code",
   "execution_count": null,
   "id": "63627c04",
   "metadata": {},
   "outputs": [],
   "source": [
    "plot_loss_and_acc(trainer.logger.log_dir)"
   ]
  },
  {
   "cell_type": "code",
   "execution_count": null,
   "id": "e8ea0b03",
   "metadata": {},
   "outputs": [],
   "source": [
    "trainer.test(model=l_model, datamodule=dm)"
   ]
  },
  {
   "cell_type": "code",
   "execution_count": null,
   "id": "38ef0c49",
   "metadata": {},
   "outputs": [],
   "source": []
  }
 ],
 "metadata": {
  "kernelspec": {
   "display_name": "Python 3",
   "language": "python",
   "name": "python3"
  },
  "language_info": {
   "codemirror_mode": {
    "name": "ipython",
    "version": 2
   },
   "file_extension": ".py",
   "mimetype": "text/x-python",
   "name": "python",
   "nbconvert_exporter": "python",
   "pygments_lexer": "ipython2",
   "version": "2.7.6"
  }
 },
 "nbformat": 4,
 "nbformat_minor": 5
}
