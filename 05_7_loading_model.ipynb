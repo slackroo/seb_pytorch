{
 "cells": [
  {
   "cell_type": "code",
   "id": "initial_id",
   "metadata": {
    "collapsed": true
   },
   "source": [
    "import torch\n",
    "from watermark import watermark\n",
    "from shared_utilities import PyTorchMLP, MNISTDataModule, LightningModel\n",
    "import lightning as L"
   ],
   "outputs": [],
   "execution_count": null
  },
  {
   "metadata": {
    "ExecuteTime": {
     "end_time": "2025-07-12T03:47:35.490564Z",
     "start_time": "2025-07-12T03:47:35.479871Z"
    }
   },
   "cell_type": "code",
   "source": [
    "print(watermark(packages='torch,lightning', python=True))\n",
    "print(f\"Torch CUDA available? {torch.cuda.is_available()}\")"
   ],
   "id": "3ec48db27d5bceda",
   "outputs": [
    {
     "name": "stdout",
     "output_type": "stream",
     "text": [
      "Python implementation: CPython\n",
      "Python version       : 3.11.6\n",
      "IPython version      : 9.4.0\n",
      "\n",
      "torch    : 2.2.2\n",
      "lightning: 2.5.2\n",
      "\n",
      "Torch CUDA available? False\n"
     ]
    }
   ],
   "execution_count": 16
  },
  {
   "metadata": {},
   "cell_type": "code",
   "source": [
    "dm = MNISTDataModule()\n",
    "\n",
    "pytorch_model = PyTorchMLP(num_features=784, num_classes=10)\n",
    "lighting_model = LightningModel(model=pytorch_model, learning_rate=0.05)"
   ],
   "id": "58597e8c725c66c5",
   "outputs": [],
   "execution_count": null
  },
  {
   "metadata": {},
   "cell_type": "code",
   "source": "from lightning.pytorch.loggers import CSVLogger",
   "id": "d3c4a1043ecdfc0c",
   "outputs": [],
   "execution_count": null
  },
  {
   "metadata": {},
   "cell_type": "code",
   "source": [
    "trainer = L.Trainer(\n",
    "    max_epochs=15,\n",
    "    accelerator='auto',\n",
    "    devices='auto',\n",
    "    deterministic=True, # this the random seed constant setting.\n",
    "    logger=CSVLogger(save_dir='logs/',name='my-model')\n",
    ")\n",
    "trainer.fit(lighting_model,datamodule=dm)"
   ],
   "id": "dbfcb44a61e4f0d3",
   "outputs": [],
   "execution_count": null
  },
  {
   "metadata": {},
   "cell_type": "code",
   "source": [
    "import pandas as pd\n",
    "import matplotlib.pyplot as plt\n",
    "\n",
    "\n",
    "metrics = pd.read_csv(f\"{trainer.logger.log_dir}/metrics.csv\")\n",
    "\n",
    "aggreg_metrics = []\n",
    "agg_col = \"epoch\"\n",
    "for i, dfg in metrics.groupby(agg_col):\n",
    "    agg = dict(dfg.mean())\n",
    "    agg[agg_col] = i\n",
    "    aggreg_metrics.append(agg)\n",
    "\n",
    "df_metrics = pd.DataFrame(aggreg_metrics)\n",
    "df_metrics[[\"Training loss\", \"val loss\"]].plot(\n",
    "    grid=True, legend=True, xlabel=\"Epoch\", ylabel=\"Loss\"\n",
    ")\n",
    "\n",
    "df_metrics[[\"train accuracy\", \"val accuracy\"]].plot(\n",
    "    grid=True, legend=True, xlabel=\"Epoch\", ylabel=\"ACC\"\n",
    ")\n",
    "\n",
    "plt.show()"
   ],
   "id": "7323835652c6ac59",
   "outputs": [],
   "execution_count": null
  },
  {
   "metadata": {},
   "cell_type": "code",
   "source": "df_metrics",
   "id": "7ea593a75ac581fe",
   "outputs": [],
   "execution_count": null
  },
  {
   "metadata": {},
   "cell_type": "code",
   "source": "trainer.save_checkpoint('model.ckpt')",
   "id": "c0792d164cb2454",
   "outputs": [],
   "execution_count": null
  },
  {
   "metadata": {},
   "cell_type": "code",
   "source": "LightningModel",
   "id": "f6277f5dbd000883",
   "outputs": [],
   "execution_count": null
  },
  {
   "metadata": {},
   "cell_type": "code",
   "source": "",
   "id": "ff602c0af98c7364",
   "outputs": [],
   "execution_count": null
  },
  {
   "metadata": {},
   "cell_type": "markdown",
   "source": "# C 6-1 Model checkpointing",
   "id": "b6d1604f9f62e5a2"
  },
  {
   "metadata": {},
   "cell_type": "code",
   "source": [
    "dm = MNISTDataModule()\n",
    "\n",
    "pytorch_model = PyTorchMLP(num_features=784, num_classes=10)\n",
    "lighting_model = LightningModel(model=pytorch_model, learning_rate=0.05)"
   ],
   "id": "db26b89137824871",
   "outputs": [],
   "execution_count": null
  },
  {
   "metadata": {},
   "cell_type": "code",
   "source": [
    "from lightning.pytorch.callbacks import ModelCheckpoint\n",
    "\n",
    "callbacks = [\n",
    "    ModelCheckpoint(save_top_k=1,monitor='val_loss',mode='min',save_last=True)\n",
    "]"
   ],
   "id": "c779d6a19c28436a",
   "outputs": [],
   "execution_count": null
  },
  {
   "metadata": {},
   "cell_type": "code",
   "source": [
    "trainer = L.Trainer(\n",
    "    callbacks=callbacks,\n",
    "    max_epochs=15,\n",
    "    accelerator='auto',\n",
    "    devices='auto',\n",
    "    deterministic=True, # this the random seed constant setting.\n",
    "    logger=CSVLogger(save_dir='logs/',name='my-model')\n",
    ")\n",
    "trainer.fit(lighting_model,datamodule=dm)"
   ],
   "id": "a3e067b1e55e1aec",
   "outputs": [],
   "execution_count": null
  },
  {
   "metadata": {},
   "cell_type": "code",
   "source": [
    "# checkpoint tip\n",
    "\n",
    "path = trainer.checkpoint_callback.best_model_path\n",
    "path = trainer.checkpoint_callback.last_model_path\n",
    "print(path)\n",
    "\n",
    "lighting_model = LightningModel.load_from_checkpoint(\n",
    "    path,\n",
    "    learning_rate=0.05,\n",
    "    model=pytorch_model,\n",
    ")\n",
    "lighting_model.eval();"
   ],
   "id": "9113dc08bb155b62",
   "outputs": [],
   "execution_count": null
  },
  {
   "metadata": {},
   "cell_type": "code",
   "source": "# trainer.test(model )",
   "id": "fa4799eda7b32e0",
   "outputs": [],
   "execution_count": null
  },
  {
   "metadata": {},
   "cell_type": "markdown",
   "source": "# Setting Learingin rate\n",
   "id": "15b8055cfd1dc59d"
  },
  {
   "metadata": {
    "ExecuteTime": {
     "end_time": "2025-07-12T03:47:52.516334Z",
     "start_time": "2025-07-12T03:47:52.464050Z"
    }
   },
   "cell_type": "code",
   "source": [
    "trainer = L.Trainer(\n",
    "    max_epochs=15,\n",
    "    auto_lr_find=True,\n",
    "    accelerator='auto',\n",
    "    devices='auto',\n",
    "    deterministic=True, # this the random seed constant setting.\n",
    "    logger=CSVLogger(save_dir='logs/',name='my-model')\n",
    ")\n",
    "results = trainer.tune(lighting_model,datamodule=dm)"
   ],
   "id": "a209be6225883350",
   "outputs": [
    {
     "ename": "TypeError",
     "evalue": "Trainer.__init__() got an unexpected keyword argument 'auto_lr_find'",
     "output_type": "error",
     "traceback": [
      "\u001B[31m---------------------------------------------------------------------------\u001B[39m",
      "\u001B[31mTypeError\u001B[39m                                 Traceback (most recent call last)",
      "\u001B[36mCell\u001B[39m\u001B[36m \u001B[39m\u001B[32mIn[17]\u001B[39m\u001B[32m, line 1\u001B[39m\n\u001B[32m----> \u001B[39m\u001B[32m1\u001B[39m trainer = \u001B[43mL\u001B[49m\u001B[43m.\u001B[49m\u001B[43mTrainer\u001B[49m\u001B[43m(\u001B[49m\n\u001B[32m      2\u001B[39m \u001B[43m    \u001B[49m\u001B[43mmax_epochs\u001B[49m\u001B[43m=\u001B[49m\u001B[32;43m15\u001B[39;49m\u001B[43m,\u001B[49m\n\u001B[32m      3\u001B[39m \u001B[43m    \u001B[49m\u001B[43mauto_lr_find\u001B[49m\u001B[43m=\u001B[49m\u001B[38;5;28;43;01mTrue\u001B[39;49;00m\u001B[43m,\u001B[49m\n\u001B[32m      4\u001B[39m \u001B[43m    \u001B[49m\u001B[43maccelerator\u001B[49m\u001B[43m=\u001B[49m\u001B[33;43m'\u001B[39;49m\u001B[33;43mauto\u001B[39;49m\u001B[33;43m'\u001B[39;49m\u001B[43m,\u001B[49m\n\u001B[32m      5\u001B[39m \u001B[43m    \u001B[49m\u001B[43mdevices\u001B[49m\u001B[43m=\u001B[49m\u001B[33;43m'\u001B[39;49m\u001B[33;43mauto\u001B[39;49m\u001B[33;43m'\u001B[39;49m\u001B[43m,\u001B[49m\n\u001B[32m      6\u001B[39m \u001B[43m    \u001B[49m\u001B[43mdeterministic\u001B[49m\u001B[43m=\u001B[49m\u001B[38;5;28;43;01mTrue\u001B[39;49;00m\u001B[43m,\u001B[49m\u001B[43m \u001B[49m\u001B[38;5;66;43;03m# this the random seed constant setting.\u001B[39;49;00m\n\u001B[32m      7\u001B[39m \u001B[43m    \u001B[49m\u001B[43mlogger\u001B[49m\u001B[43m=\u001B[49m\u001B[43mCSVLogger\u001B[49m\u001B[43m(\u001B[49m\u001B[43msave_dir\u001B[49m\u001B[43m=\u001B[49m\u001B[33;43m'\u001B[39;49m\u001B[33;43mlogs/\u001B[39;49m\u001B[33;43m'\u001B[39;49m\u001B[43m,\u001B[49m\u001B[43mname\u001B[49m\u001B[43m=\u001B[49m\u001B[33;43m'\u001B[39;49m\u001B[33;43mmy-model\u001B[39;49m\u001B[33;43m'\u001B[39;49m\u001B[43m)\u001B[49m\n\u001B[32m      8\u001B[39m \u001B[43m)\u001B[49m\n\u001B[32m      9\u001B[39m results = trainer.tune(lighting_model,datamodule=dm)\n",
      "\u001B[36mFile \u001B[39m\u001B[32m~/Data_science/Deeplearning/seb_pytorch/.venv/lib/python3.11/site-packages/lightning/pytorch/utilities/argparse.py:70\u001B[39m, in \u001B[36m_defaults_from_env_vars.<locals>.insert_env_defaults\u001B[39m\u001B[34m(self, *args, **kwargs)\u001B[39m\n\u001B[32m     67\u001B[39m kwargs = \u001B[38;5;28mdict\u001B[39m(\u001B[38;5;28mlist\u001B[39m(env_variables.items()) + \u001B[38;5;28mlist\u001B[39m(kwargs.items()))\n\u001B[32m     69\u001B[39m \u001B[38;5;66;03m# all args were already moved to kwargs\u001B[39;00m\n\u001B[32m---> \u001B[39m\u001B[32m70\u001B[39m \u001B[38;5;28;01mreturn\u001B[39;00m \u001B[43mfn\u001B[49m\u001B[43m(\u001B[49m\u001B[38;5;28;43mself\u001B[39;49m\u001B[43m,\u001B[49m\u001B[43m \u001B[49m\u001B[43m*\u001B[49m\u001B[43m*\u001B[49m\u001B[43mkwargs\u001B[49m\u001B[43m)\u001B[49m\n",
      "\u001B[31mTypeError\u001B[39m: Trainer.__init__() got an unexpected keyword argument 'auto_lr_find'"
     ]
    }
   ],
   "execution_count": 17
  },
  {
   "metadata": {},
   "cell_type": "code",
   "outputs": [],
   "execution_count": null,
   "source": "fig = results['L']",
   "id": "317b125ba565d89c"
  }
 ],
 "metadata": {
  "kernelspec": {
   "display_name": "Python 3",
   "language": "python",
   "name": "python3"
  },
  "language_info": {
   "codemirror_mode": {
    "name": "ipython",
    "version": 2
   },
   "file_extension": ".py",
   "mimetype": "text/x-python",
   "name": "python",
   "nbconvert_exporter": "python",
   "pygments_lexer": "ipython2",
   "version": "2.7.6"
  }
 },
 "nbformat": 4,
 "nbformat_minor": 5
}
