{
 "cells": [
  {
   "cell_type": "code",
   "id": "initial_id",
   "metadata": {
    "collapsed": true
   },
   "source": [
    "%load_ext watermark\n",
    "%watermark -v -p numpy,pandas,matplotlib,torch\n"
   ],
   "outputs": [],
   "execution_count": null
  },
  {
   "metadata": {},
   "cell_type": "code",
   "source": [
    "# Loading the dataset\n",
    "import pandas as pd\n",
    "\n",
    "df=pd.read_csv('./assets/xor.csv')\n",
    "df"
   ],
   "id": "e2e8521f404ced19",
   "outputs": [],
   "execution_count": null
  },
  {
   "metadata": {},
   "cell_type": "code",
   "source": [
    "X = df[['x1','x2']].values\n",
    "y = df['class label'].values"
   ],
   "id": "f94d1bf8084fd5eb",
   "outputs": [],
   "execution_count": null
  },
  {
   "metadata": {},
   "cell_type": "code",
   "source": [
    "from sklearn.model_selection import train_test_split\n",
    "\n",
    "# split train test\n",
    "X_train, X_test, y_train, y_test = train_test_split(X,y,  test_size=0.15, random_state=1, shuffle=True, stratify=y)"
   ],
   "id": "7914211b65f41321",
   "outputs": [],
   "execution_count": null
  },
  {
   "metadata": {},
   "cell_type": "code",
   "source": [
    "# split on train to validate performance\n",
    "\n",
    "X_train, X_val, y_train, y_val = train_test_split(X_train, y_train, test_size=0.1, random_state=1, stratify=y_train)"
   ],
   "id": "3ad3286b95d64a59",
   "outputs": [],
   "execution_count": null
  },
  {
   "metadata": {},
   "cell_type": "code",
   "source": [
    "print(f\"Training set size: {len(X_train)}\")\n",
    "print(f\"Val set size: {len(X_val)}\")\n",
    "print(f\"Test size : {len(X_test)}\")"
   ],
   "id": "5a8382808e010a22",
   "outputs": [],
   "execution_count": null
  },
  {
   "metadata": {},
   "cell_type": "code",
   "source": [
    "import numpy as np\n",
    "\n",
    "print(f\"Training labels: {np.bincount(y_train)}\")\n",
    "print(f\"Val labels: {np.bincount(y_val)}\")\n",
    "print(f\"Test labels : {np.bincount(y_test)}\")"
   ],
   "id": "8c72db80825c0929",
   "outputs": [],
   "execution_count": null
  },
  {
   "metadata": {},
   "cell_type": "code",
   "source": [
    "# visualize the dataset\n",
    "import matplotlib.pyplot as plt\n",
    "plt.plot(\n",
    "    X_train[y_train == 0, 0],\n",
    "    X_train[y_train == 0, 1],\n",
    "    marker=\"D\",\n",
    "    markersize=10,\n",
    "    linestyle=\"\",\n",
    "    label=\"Class 0\",\n",
    ")\n",
    "\n",
    "plt.plot(\n",
    "    X_train[y_train == 1, 0],\n",
    "    X_train[y_train == 1, 1],\n",
    "    marker=\"^\",\n",
    "    markersize=13,\n",
    "    linestyle=\"\",\n",
    "    label=\"Class 1\",\n",
    ")\n",
    "\n",
    "# plt.plot([x1_min, x1_max], [x2_min, x2_max], color=\"k\")\n",
    "\n",
    "plt.legend(loc=2)\n",
    "\n",
    "plt.xlim([-5, 5])\n",
    "plt.ylim([-5, 5])\n",
    "\n",
    "plt.xlabel(\"Feature $x_1$\", fontsize=12)\n",
    "plt.ylabel(\"Feature $x_2$\", fontsize=12)\n",
    "\n",
    "plt.grid()\n",
    "plt.show()"
   ],
   "id": "c089823c52f2e2dd",
   "outputs": [],
   "execution_count": null
  },
  {
   "metadata": {},
   "cell_type": "code",
   "source": [
    "import torch\n",
    "\n",
    "class PytorchMPL(torch.nn.Module):\n",
    "\n",
    "    def __init__(self, num_features, num_classes):\n",
    "        super().__init__()\n",
    "\n",
    "        self.all_layers = torch.nn.Sequential(\n",
    "\n",
    "            #first hidden layer\n",
    "            torch.nn.Linear(num_features, 25),\n",
    "            torch.nn.ReLU(),\n",
    "\n",
    "            #Second hidden layer\n",
    "            torch.nn.Linear(25, 15),\n",
    "            torch.nn.ReLU(),\n",
    "\n",
    "            #output layer\n",
    "            torch.nn.Linear(15, num_classes),\n",
    "        )\n",
    "\n",
    "    def forward(self, x):\n",
    "        logits = self.all_layers(x)\n",
    "        return logits\n",
    "\n",
    "\n"
   ],
   "id": "bac118d8fc4cb59c",
   "outputs": [],
   "execution_count": null
  },
  {
   "metadata": {},
   "cell_type": "code",
   "source": [
    "# define the dataloader\n",
    "\n",
    "from torch.utils.data import Dataset, DataLoader\n",
    "\n",
    "class MyDataset(Dataset):\n",
    "\n",
    "    def __init__(self, features, labels):\n",
    "        self.features = torch.tensor(features, dtype=torch.float32)\n",
    "        self.labels = torch.tensor(labels, dtype=torch.int64)\n",
    "\n",
    "    def __len__(self):\n",
    "        return self.labels.shape[0]\n",
    "\n",
    "    def __getitem__(self, idx):\n",
    "\n",
    "        x = self.features[idx]\n",
    "        y = self.labels[idx]\n",
    "\n",
    "        return x, y\n",
    "\n",
    "train_ds = MyDataset(X_train, y_train)\n",
    "val_ds = MyDataset(X_val, y_val)\n",
    "test_ds = MyDataset(X_test, y_test)\n",
    "\n",
    "train_dl = DataLoader(train_ds, batch_size=32, shuffle=True)\n",
    "val_dl = DataLoader(val_ds, batch_size=32, shuffle=False)\n",
    "test_dl = DataLoader(test_ds, batch_size=32, shuffle=False)\n",
    "\n",
    "\n"
   ],
   "id": "922f73e3cc911055",
   "outputs": [],
   "execution_count": null
  },
  {
   "metadata": {},
   "cell_type": "code",
   "source": [
    "# Training loop\n",
    "\n",
    "def compute_accuracy(model, dataloader):\n",
    "\n",
    "    correct = 0.0\n",
    "    total_examples = 0.0\n",
    "\n",
    "    for index, (features, labels) in enumerate(dataloader):\n",
    "\n",
    "        # with torch.no_grad():\n",
    "        with torch.inference_mode():  #same as no grad\n",
    "            logits = model(features)\n",
    "\n",
    "        predictions = torch.argmax(logits, dim=1) # because it one hot encodes y get its index for class label\n",
    "        compare = predictions == labels\n",
    "        correct += torch.sum(compare)\n",
    "        total_examples += len(compare)\n",
    "\n",
    "    return correct / total_examples"
   ],
   "id": "7d32c5c9a43ec208",
   "outputs": [],
   "execution_count": null
  },
  {
   "metadata": {},
   "cell_type": "code",
   "source": [
    "import torch.nn.functional as F\n",
    "\n",
    "torch.manual_seed(1)\n",
    "model = PytorchMPL(num_features=2, num_classes=2)\n",
    "optimizer = torch.optim.SGD(model.parameters(), lr=0.05)\n",
    "\n",
    "n_epochs = 10\n",
    "\n",
    "for epoch in range(n_epochs):\n",
    "    model.train()\n",
    "    for batch_idx, (features, labels) in enumerate(train_dl):\n",
    "\n",
    "        logits = model(features)\n",
    "        loss = F.cross_entropy(logits, labels)\n",
    "        optimizer.zero_grad()\n",
    "        loss.backward()\n",
    "        optimizer.step()\n",
    "\n",
    "\n",
    "        # logging\n",
    "        print(\n",
    "            f\"Epoch {epoch + 1:03d} / {n_epochs:03d} - \"\n",
    "            f\"Batch {batch_idx:03d} / {len(train_dl):03d} -\"\n",
    "            f\"Loss: {loss.item():.4f}\"\n",
    "              )\n",
    "\n",
    "    train_acc = compute_accuracy(model, train_dl)\n",
    "    val_acc = compute_accuracy(model, val_dl)\n",
    "    print(f\"Train accuracy: {train_acc:.4f} - Val accuracy: {val_acc:.4f}\")\n",
    "\n",
    "\n",
    "\n",
    "\n"
   ],
   "id": "3c54ec91d8f624f6",
   "outputs": [],
   "execution_count": null
  },
  {
   "metadata": {},
   "cell_type": "markdown",
   "source": "# Evaluate our model",
   "id": "49e4de5b512a93dc"
  },
  {
   "metadata": {},
   "cell_type": "code",
   "source": [
    "train_acc = compute_accuracy(model, train_dl)\n",
    "val_acc = compute_accuracy(model, val_dl)\n",
    "test_acc = compute_accuracy(model, test_dl)\n",
    "\n",
    "print(f\"Train accuracy: {train_acc:.4f} - Val accuracy: {val_acc:.4f} - Test accuracy: {test_acc:.4f}\")"
   ],
   "id": "4ba8f2d943831979",
   "outputs": [],
   "execution_count": null
  },
  {
   "metadata": {},
   "cell_type": "code",
   "source": [
    "# Visualize the decision boundary\n",
    "\n",
    "from matplotlib.colors import ListedColormap\n",
    "\n",
    "\n",
    "def plot_decision_regions(X, y, classifier, resolution=0.02):\n",
    "    # setup marker generator and color map\n",
    "    markers = ('D', '^', 'x','s','v')\n",
    "    colors = ('C0', 'C1', 'C2','C3','C4')\n",
    "    cmap = ListedColormap(colors[:len(np.unique(y))])\n",
    "\n",
    "    # plot the decision surface\n",
    "    x1_min, x1_max = X[:, 0].min() - 1, X[:, 0].max() + 1\n",
    "    x2_min, x2_max = X[:, 1].min() - 1, X[:, 1].max() + 1\n",
    "    xx1, xx2 = np.meshgrid(np.arange(x1_min, x1_max, resolution),\n",
    "                           np.arange(x2_min, x2_max, resolution))\n",
    "    tensor = torch.tensor(np.array([xx1.ravel(), xx2.ravel()]).T).float()\n",
    "    logits = classifier.forward(tensor)\n",
    "    # Use torch.argmax instead of np.argmax to avoid numpy conversion\n",
    "    Z = torch.argmax(logits.detach(), axis=1)\n",
    "    Z = Z.reshape(xx1.shape)\n",
    "\n",
    "    # Convert to numpy only for matplotlib plotting\n",
    "    print(Z.detach().shape)\n",
    "    Z_numpy = Z.numpy()\n",
    "\n",
    "    plt.contourf(xx1, xx2, Z, alpha=0.4, cmap=cmap)\n",
    "    plt.xlim(xx1.min(), xx1.max())\n",
    "    plt.ylim(xx2.min(), xx2.max())\n",
    "\n",
    "    # plot class samples\n",
    "    for idx, cl in enumerate(np.unique(y)):\n",
    "        plt.scatter(x=X[y == cl, 0], y=X[y == cl, 1],\n",
    "                    alpha=0.8, color=colors[idx],\n",
    "                    marker=markers[idx],\n",
    "                    label=cl)\n",
    "\n",
    "\n",
    "plot_decision_regions(X_train, y_train, model)\n"
   ],
   "id": "2db58acaf9979982",
   "outputs": [],
   "execution_count": null
  },
  {
   "metadata": {},
   "cell_type": "code",
   "source": "torch.tensor([2]).numpy()",
   "id": "4d9586b316247733",
   "outputs": [],
   "execution_count": null
  },
  {
   "metadata": {},
   "cell_type": "code",
   "source": "",
   "id": "82f5a1afc6fb1c54",
   "outputs": [],
   "execution_count": null
  }
 ],
 "metadata": {
  "kernelspec": {
   "display_name": "Python 3",
   "language": "python",
   "name": "python3"
  },
  "language_info": {
   "codemirror_mode": {
    "name": "ipython",
    "version": 2
   },
   "file_extension": ".py",
   "mimetype": "text/x-python",
   "name": "python",
   "nbconvert_exporter": "python",
   "pygments_lexer": "ipython2",
   "version": "2.7.6"
  }
 },
 "nbformat": 4,
 "nbformat_minor": 5
}
