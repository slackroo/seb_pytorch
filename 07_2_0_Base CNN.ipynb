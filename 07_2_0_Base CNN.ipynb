{
 "cells": [
  {
   "cell_type": "code",
   "execution_count": null,
   "id": "initial_id",
   "metadata": {
    "collapsed": true
   },
   "outputs": [],
   "source": [
    "import sys\n",
    "\n",
    "import torch.nn as nn\n",
    "\n",
    "class CNN(nn.Module):\n",
    "\n",
    "    def __init__(self, num_classes):\n",
    "        super().__init__()\n",
    "\n",
    "        self.conv_layer = nn.Sequential(\n",
    "            nn.Conv2d(),\n",
    "            nn.MaxPool2d(),\n",
    "            nn.Conv2d(),\n",
    "            nn.MaxPool2d()\n",
    "        )\n",
    "\n",
    "\n",
    "        self.fc_layer = nn.Sequential(\n",
    "            nn.Linear(),\n",
    "            nn.ReLU(),\n",
    "            nn.Linear(),\n",
    "            nn.ReLU(),\n",
    "            nn.Linear(, num_clases),\n",
    "        )\n",
    "\n",
    "    def forward(self, x):\n",
    "        features = self.conv_layer()\n",
    "        features = nn.Flatten(features, start_dim=1)\n",
    "        logits = self.fc_layer(features)\n",
    "        return logits\n",
    "\n"
   ]
  },
  {
   "metadata": {
    "ExecuteTime": {
     "end_time": "2025-07-19T07:00:24.725629Z",
     "start_time": "2025-07-19T07:00:24.722026Z"
    }
   },
   "cell_type": "code",
   "source": "# some test on basic conv",
   "id": "355e5e6ff6494a72",
   "outputs": [],
   "execution_count": 1
  },
  {
   "metadata": {
    "ExecuteTime": {
     "end_time": "2025-07-19T07:00:31.434064Z",
     "start_time": "2025-07-19T07:00:29.745815Z"
    }
   },
   "cell_type": "code",
   "source": "import torch",
   "id": "8f8f3dfc52cdeb9e",
   "outputs": [],
   "execution_count": 2
  },
  {
   "metadata": {
    "ExecuteTime": {
     "end_time": "2025-07-19T07:02:12.883870Z",
     "start_time": "2025-07-19T07:02:12.879356Z"
    }
   },
   "cell_type": "code",
   "source": [
    "layer :torch.nn.Conv2d = torch.nn.Conv2d(1,1,kernel_size=3)\n",
    "\n",
    "a= layer.weight\n",
    "print(a)"
   ],
   "id": "a0ab70e41d3f69ad",
   "outputs": [
    {
     "name": "stdout",
     "output_type": "stream",
     "text": [
      "Parameter containing:\n",
      "tensor([[[[-0.0966,  0.1322, -0.2477],\n",
      "          [ 0.0253,  0.2606,  0.0793],\n",
      "          [-0.1646, -0.0506, -0.0180]]]], requires_grad=True)\n"
     ]
    }
   ],
   "execution_count": 12
  },
  {
   "metadata": {
    "ExecuteTime": {
     "end_time": "2025-07-19T07:29:46.008106Z",
     "start_time": "2025-07-19T07:29:45.927457Z"
    }
   },
   "cell_type": "code",
   "source": [
    "# A typical setup with pooling\n",
    "\n",
    "import torch\n",
    "import torch.nn as nn\n",
    "\n",
    "layer_with_pooling = nn.Sequential(\n",
    "    nn.Conv2d(3,8,3,stride=1),\n",
    "    nn.MaxPool2d(kernel_size=2, stride=2),\n",
    "    nn.Conv2d(8, 16, kernel_size=3),\n",
    "    nn.MaxPool2d(kernel_size=2, stride=2),\n",
    ")\n",
    "\n",
    "sample= torch.rand(3,110,110)\n",
    "layer_with_pooling(sample).shape"
   ],
   "id": "ebedfe396edad736",
   "outputs": [
    {
     "data": {
      "text/plain": [
       "torch.Size([16, 26, 26])"
      ]
     },
     "execution_count": 13,
     "metadata": {},
     "output_type": "execute_result"
    }
   ],
   "execution_count": 13
  },
  {
   "metadata": {
    "ExecuteTime": {
     "end_time": "2025-07-19T07:31:50.957970Z",
     "start_time": "2025-07-19T07:31:50.948255Z"
    }
   },
   "cell_type": "code",
   "source": [
    "# without max pooling using stride in Conv layer\n",
    "\n",
    "layer_no_pooling = nn.Sequential(\n",
    "    nn.Conv2d(3,8,kernel_size=3,stride=2),\n",
    "    # nn.MaxPool2d(kernel_size=2, stride=2),\n",
    "    nn.Conv2d(8, 16, kernel_size=3, stride=2),\n",
    "    # nn.MaxPool2d(kernel_size=2, stride=2),\n",
    ")\n",
    "\n",
    "sample= torch.rand(3,110,110)\n",
    "layer_no_pooling(sample).shape"
   ],
   "id": "50ebd45fb35663d",
   "outputs": [
    {
     "data": {
      "text/plain": [
       "torch.Size([16, 26, 26])"
      ]
     },
     "execution_count": 16,
     "metadata": {},
     "output_type": "execute_result"
    }
   ],
   "execution_count": 16
  },
  {
   "metadata": {},
   "cell_type": "markdown",
   "source": [
    "# How to calculate Feature Map Size\n",
    "\n",
    "$$ O = \\frac{W-K+2P}{S} + 1$$\n",
    "\n",
    "Where\n",
    "O : Output Width\n",
    "W: input widtu\n",
    "K : Kernel Width\n",
    "P : Padding para\n",
    "S: Stride\n",
    "\n",
    "Example\n",
    "\n",
    "$$ O = \\frac{100-3+0}{1} + 1  = 98$$\n"
   ],
   "id": "f6dbb6facfd5b2ca"
  },
  {
   "metadata": {
    "ExecuteTime": {
     "end_time": "2025-07-19T07:38:55.157524Z",
     "start_time": "2025-07-19T07:38:55.145021Z"
    }
   },
   "cell_type": "code",
   "source": [
    "layer = torch.nn.Conv2d(1,1, kernel_size=3, padding=0, stride=1)\n",
    "\n",
    "example = torch.rand(1, 100, 100)\n",
    "layer(example).shape"
   ],
   "id": "4ba28e09c3ae57a1",
   "outputs": [
    {
     "data": {
      "text/plain": [
       "torch.Size([1, 98, 98])"
      ]
     },
     "execution_count": 17,
     "metadata": {},
     "output_type": "execute_result"
    }
   ],
   "execution_count": 17
  },
  {
   "metadata": {
    "ExecuteTime": {
     "end_time": "2025-07-19T07:49:17.628452Z",
     "start_time": "2025-07-19T07:49:17.618472Z"
    }
   },
   "cell_type": "code",
   "source": [
    "layer = torch.nn.Conv2d(1,1, kernel_size=3, padding=2, stride=2)\n",
    "\n",
    "example = torch.rand(1, 224, 224)\n",
    "layer(example).shape"
   ],
   "id": "3d4276874142eb08",
   "outputs": [
    {
     "data": {
      "text/plain": [
       "torch.Size([1, 113, 113])"
      ]
     },
     "execution_count": 18,
     "metadata": {},
     "output_type": "execute_result"
    }
   ],
   "execution_count": 18
  },
  {
   "metadata": {},
   "cell_type": "code",
   "outputs": [],
   "execution_count": null,
   "source": [
    "size = 0\n",
    "\n",
    "for name, param in cnn.named_parameters():\n",
    "    size += sys.getsizeof(param.storage()) / 1_024**3\n",
    "\n",
    "print(f\"Memory size : {size:.3f} GB\")\n"
   ],
   "id": "c5483178afb56811"
  }
 ],
 "metadata": {
  "kernelspec": {
   "display_name": "Python 3",
   "language": "python",
   "name": "python3"
  },
  "language_info": {
   "codemirror_mode": {
    "name": "ipython",
    "version": 2
   },
   "file_extension": ".py",
   "mimetype": "text/x-python",
   "name": "python",
   "nbconvert_exporter": "python",
   "pygments_lexer": "ipython2",
   "version": "2.7.6"
  }
 },
 "nbformat": 4,
 "nbformat_minor": 5
}
