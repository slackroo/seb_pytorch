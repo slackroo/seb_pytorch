{
 "cells": [
  {
   "cell_type": "code",
   "id": "initial_id",
   "metadata": {
    "collapsed": true,
    "ExecuteTime": {
     "end_time": "2025-07-08T12:01:45.409799Z",
     "start_time": "2025-07-08T12:01:45.406218Z"
    }
   },
   "source": "import torch",
   "outputs": [],
   "execution_count": 17
  },
  {
   "metadata": {
    "ExecuteTime": {
     "end_time": "2025-07-08T12:01:45.427791Z",
     "start_time": "2025-07-08T12:01:45.424252Z"
    }
   },
   "cell_type": "code",
   "source": [
    "w_1 = torch.tensor([0.23], requires_grad=True)\n",
    "b_1 = torch.tensor([0.1], requires_grad=True)\n",
    "\n",
    "# Inputs\n",
    "x_1 = torch.tensor([1.23])\n",
    "y = torch.tensor([1.])"
   ],
   "id": "24229aa508e72118",
   "outputs": [],
   "execution_count": 18
  },
  {
   "metadata": {
    "ExecuteTime": {
     "end_time": "2025-07-08T12:01:45.448289Z",
     "start_time": "2025-07-08T12:01:45.441831Z"
    }
   },
   "cell_type": "code",
   "source": [
    "u = w_1 * x_1\n",
    "z = u + b_1\n",
    "print(z)\n",
    "a = torch.sigmoid(z)\n",
    "print(a)"
   ],
   "id": "a41258caa09b8d48",
   "outputs": [
    {
     "name": "stdout",
     "output_type": "stream",
     "text": [
      "tensor([0.3829], grad_fn=<AddBackward0>)\n",
      "tensor([0.5946], grad_fn=<SigmoidBackward0>)\n"
     ]
    }
   ],
   "execution_count": 19
  },
  {
   "metadata": {
    "ExecuteTime": {
     "end_time": "2025-07-08T12:01:45.474801Z",
     "start_time": "2025-07-08T12:01:45.469446Z"
    }
   },
   "cell_type": "code",
   "source": [
    "import torch.nn.functional as F\n",
    "\n",
    "l = F.binary_cross_entropy(a, y)\n",
    "\n",
    "# best proctice to use\n",
    "\n",
    "l = F.binary_cross_entropy_with_logits(z, y)\n",
    "print(l)"
   ],
   "id": "c1e9c02d4d47cf5b",
   "outputs": [
    {
     "name": "stdout",
     "output_type": "stream",
     "text": [
      "tensor(0.5199, grad_fn=<BinaryCrossEntropyWithLogitsBackward0>)\n"
     ]
    }
   ],
   "execution_count": 20
  },
  {
   "metadata": {
    "ExecuteTime": {
     "end_time": "2025-07-08T12:01:45.517646Z",
     "start_time": "2025-07-08T12:01:45.513092Z"
    }
   },
   "cell_type": "code",
   "source": [
    "import math\n",
    "\n",
    "math.log(0.5946)"
   ],
   "id": "8a995c1c8aa3fa40",
   "outputs": [
    {
     "data": {
      "text/plain": [
       "-0.5198663684181397"
      ]
     },
     "execution_count": 21,
     "metadata": {},
     "output_type": "execute_result"
    }
   ],
   "execution_count": 21
  },
  {
   "metadata": {
    "ExecuteTime": {
     "end_time": "2025-07-08T11:58:22.413291Z",
     "start_time": "2025-07-08T11:58:22.408809Z"
    }
   },
   "cell_type": "code",
   "source": [
    "# from torch.autograd import grad\n",
    "# grad_l_w1 = grad(l, w_1, retain_graph=True)\n",
    "# print(grad_l_w1)"
   ],
   "id": "8097c33296c58180",
   "outputs": [
    {
     "name": "stdout",
     "output_type": "stream",
     "text": [
      "(tensor([-0.4987]),)\n"
     ]
    }
   ],
   "execution_count": 13
  },
  {
   "metadata": {
    "ExecuteTime": {
     "end_time": "2025-07-08T11:59:30.156978Z",
     "start_time": "2025-07-08T11:59:30.153020Z"
    }
   },
   "cell_type": "code",
   "source": [
    "# grad_l_b = grad(l, b_1, retain_graph=True)\n",
    "# print(grad_l_b)"
   ],
   "id": "ba73c464e0ed8941",
   "outputs": [
    {
     "name": "stdout",
     "output_type": "stream",
     "text": [
      "(tensor([-0.4054]),)\n"
     ]
    }
   ],
   "execution_count": 16
  },
  {
   "metadata": {
    "ExecuteTime": {
     "end_time": "2025-07-08T12:01:51.182946Z",
     "start_time": "2025-07-08T12:01:51.176712Z"
    }
   },
   "cell_type": "code",
   "source": "l.backward()",
   "id": "3701ff13ba694154",
   "outputs": [],
   "execution_count": 22
  },
  {
   "metadata": {
    "ExecuteTime": {
     "end_time": "2025-07-08T12:02:05.729077Z",
     "start_time": "2025-07-08T12:02:05.723986Z"
    }
   },
   "cell_type": "code",
   "source": "w_1.grad, b_1.grad",
   "id": "4c1620d9ebe704d8",
   "outputs": [
    {
     "data": {
      "text/plain": [
       "(tensor([-0.4987]), tensor([-0.4054]))"
      ]
     },
     "execution_count": 25,
     "metadata": {},
     "output_type": "execute_result"
    }
   ],
   "execution_count": 25
  },
  {
   "metadata": {
    "ExecuteTime": {
     "end_time": "2025-07-08T12:07:56.742539Z",
     "start_time": "2025-07-08T12:07:56.735250Z"
    }
   },
   "cell_type": "code",
   "source": [
    "# Suppose you have the following function:\n",
    "# f(x, y, z) = 4x^3 + 3y^2 + 2z.\n",
    "# What is the partial derivative of f with respect to y when x=3, y=2, z=5?\n",
    "\n",
    "\n",
    "import torch\n",
    "from torch.autograd import grad\n",
    "\n",
    "x = torch.tensor([3.])\n",
    "y = torch.tensor([2.], requires_grad=True)\n",
    "z = torch.tensor([5.])\n",
    "\n",
    "f = 4 * x ** 3 + 3 * y ** 2 + 2 * z\n",
    "\n",
    "grad_f_y = grad(f, y, )\n",
    "print(grad_f_y)\n"
   ],
   "id": "b22ac76671085d9b",
   "outputs": [
    {
     "name": "stdout",
     "output_type": "stream",
     "text": [
      "(tensor([12.]),)\n"
     ]
    }
   ],
   "execution_count": 27
  },
  {
   "metadata": {},
   "cell_type": "code",
   "outputs": [],
   "execution_count": null,
   "source": "",
   "id": "d2274802e206c7f0"
  },
  {
   "metadata": {},
   "cell_type": "markdown",
   "source": "# using nn.linear",
   "id": "f11a2fef393d738d"
  },
  {
   "metadata": {
    "ExecuteTime": {
     "end_time": "2025-07-08T12:27:40.457966Z",
     "start_time": "2025-07-08T12:27:40.439729Z"
    }
   },
   "cell_type": "code",
   "source": [
    "import torch\n",
    "\n",
    "torch.manual_seed(123)\n",
    "linear = torch.nn.Linear(in_features=2, out_features=1)\n",
    "linear.weight, linear.bias"
   ],
   "id": "fbb5c3fa9ed07459",
   "outputs": [
    {
     "data": {
      "text/plain": [
       "(Parameter containing:\n",
       " tensor([[-0.2883,  0.0234]], requires_grad=True),\n",
       " Parameter containing:\n",
       " tensor([-0.3512], requires_grad=True))"
      ]
     },
     "execution_count": 28,
     "metadata": {},
     "output_type": "execute_result"
    }
   ],
   "execution_count": 28
  },
  {
   "metadata": {
    "ExecuteTime": {
     "end_time": "2025-07-08T12:28:25.388125Z",
     "start_time": "2025-07-08T12:28:25.384363Z"
    }
   },
   "cell_type": "code",
   "source": [
    "x = torch.tensor([1.2, 0.5])\n",
    "print(x)"
   ],
   "id": "b2c6ad852ed5004b",
   "outputs": [
    {
     "name": "stdout",
     "output_type": "stream",
     "text": [
      "tensor([1.2000, 0.5000])\n"
     ]
    }
   ],
   "execution_count": 29
  },
  {
   "metadata": {
    "ExecuteTime": {
     "end_time": "2025-07-08T12:29:13.156518Z",
     "start_time": "2025-07-08T12:29:13.140249Z"
    }
   },
   "cell_type": "code",
   "source": [
    "w = linear.weight.detach()\n",
    "b = linear.bias.detach()\n",
    "z = x.matmul(w.T) + b\n",
    "\n",
    "print(z)"
   ],
   "id": "ddf21656b5b0abc6",
   "outputs": [
    {
     "name": "stdout",
     "output_type": "stream",
     "text": [
      "tensor([-0.6855])\n"
     ]
    }
   ],
   "execution_count": 30
  },
  {
   "metadata": {
    "ExecuteTime": {
     "end_time": "2025-07-08T12:31:36.712654Z",
     "start_time": "2025-07-08T12:31:36.702770Z"
    }
   },
   "cell_type": "code",
   "source": [
    "# type simpler\n",
    "import torch\n",
    "\n",
    "torch.manual_seed(123)\n",
    "linear = torch.nn.Linear(in_features=2, out_features=1)\n",
    "print(linear.weight)\n",
    "print(linear.bias)\n",
    "\n",
    "x = torch.tensor(\n",
    "    [1.2, 0.5]\n",
    ")\n",
    "z = linear(x)\n",
    "print(z)"
   ],
   "id": "a0286ebb155f5742",
   "outputs": [
    {
     "name": "stdout",
     "output_type": "stream",
     "text": [
      "Parameter containing:\n",
      "tensor([[-0.2883,  0.0234]], requires_grad=True)\n",
      "Parameter containing:\n",
      "tensor([-0.3512], requires_grad=True)\n",
      "tensor([-0.6855], grad_fn=<ViewBackward0>)\n"
     ]
    }
   ],
   "execution_count": 32
  },
  {
   "metadata": {
    "ExecuteTime": {
     "end_time": "2025-07-08T12:32:56.339665Z",
     "start_time": "2025-07-08T12:32:56.330736Z"
    }
   },
   "cell_type": "code",
   "source": [
    "# type simpler\n",
    "import torch\n",
    "\n",
    "torch.manual_seed(123)\n",
    "linear = torch.nn.Linear(in_features=2, out_features=1)\n",
    "print(linear.weight)\n",
    "print(linear.bias)\n",
    "\n",
    "x = torch.tensor(\n",
    "    [\n",
    "        [1.2, 0.5],\n",
    "        [0.7, 0.8],\n",
    "        [0.1, 0.2]\n",
    "    ]\n",
    ")\n",
    "z = linear(x)\n",
    "print(z)"
   ],
   "id": "1906d0ac5c71627b",
   "outputs": [
    {
     "name": "stdout",
     "output_type": "stream",
     "text": [
      "Parameter containing:\n",
      "tensor([[-0.2883,  0.0234]], requires_grad=True)\n",
      "Parameter containing:\n",
      "tensor([-0.3512], requires_grad=True)\n",
      "tensor([[-0.6855],\n",
      "        [-0.5343],\n",
      "        [-0.3753]], grad_fn=<AddmmBackward0>)\n"
     ]
    }
   ],
   "execution_count": 35
  },
  {
   "metadata": {
    "ExecuteTime": {
     "end_time": "2025-07-08T12:35:26.704207Z",
     "start_time": "2025-07-08T12:35:26.698715Z"
    }
   },
   "cell_type": "code",
   "source": "list(torch.nn.Linear(in_features=5, out_features=1).parameters())",
   "id": "e45cfd597cf3f4d6",
   "outputs": [
    {
     "data": {
      "text/plain": [
       "[Parameter containing:\n",
       " tensor([[-0.0879, -0.3412,  0.2928, -0.1055,  0.1436]], requires_grad=True),\n",
       " Parameter containing:\n",
       " tensor([0.3162], requires_grad=True)]"
      ]
     },
     "execution_count": 38,
     "metadata": {},
     "output_type": "execute_result"
    }
   ],
   "execution_count": 38
  },
  {
   "metadata": {},
   "cell_type": "code",
   "outputs": [],
   "execution_count": null,
   "source": "",
   "id": "a0956930d49de307"
  }
 ],
 "metadata": {
  "kernelspec": {
   "display_name": "Python 3",
   "language": "python",
   "name": "python3"
  },
  "language_info": {
   "codemirror_mode": {
    "name": "ipython",
    "version": 2
   },
   "file_extension": ".py",
   "mimetype": "text/x-python",
   "name": "python",
   "nbconvert_exporter": "python",
   "pygments_lexer": "ipython2",
   "version": "2.7.6"
  }
 },
 "nbformat": 4,
 "nbformat_minor": 5
}
